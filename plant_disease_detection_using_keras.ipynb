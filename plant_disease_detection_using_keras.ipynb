{
  "cells": [
    {
      "metadata": {
        "_uuid": "1020827e241ac87ffdf8e0f8762a6885bdc28fbc",
        "id": "P4OW8_4f8rH4"
      },
      "cell_type": "markdown",
      "source": [
        "Import neccessary packages"
      ]
    },
    {
      "metadata": {
        "_uuid": "8f2839f25d086af736a60e9eeb907d3b93b6e0e5",
        "_cell_guid": "b1076dfc-b9ad-4769-8c92-a6c4dae69d19",
        "trusted": true,
        "id": "xdwluAJM8rH_"
      },
      "cell_type": "code",
      "source": [
        "import numpy as np\n",
        "import pickle\n",
        "import cv2\n",
        "from os import listdir\n",
        "from sklearn.preprocessing import LabelBinarizer\n",
        "from keras.models import Sequential\n",
        "from tensorflow.keras.models import Sequential\n",
        "from tensorflow.keras.layers import (\n",
        "    BatchNormalization, SeparableConv2D, MaxPooling2D, Activation, Flatten, Dropout, Dense\n",
        ")\n",
        "from keras.layers.convolutional import Conv2D\n",
        "from keras.layers.convolutional import MaxPooling2D\n",
        "from keras.layers.core import Activation, Flatten, Dropout, Dense\n",
        "from keras import backend as K\n",
        "from keras.preprocessing.image import ImageDataGenerator\n",
        "from tensorflow.keras.optimizers import Adam\n",
        "\n",
        "from keras.preprocessing import image\n",
        "from keras.preprocessing.image import img_to_array\n",
        "from sklearn.preprocessing import MultiLabelBinarizer\n",
        "from sklearn.model_selection import train_test_split\n",
        "import matplotlib.pyplot as plt"
      ],
      "execution_count": null,
      "outputs": []
    },
    {
      "metadata": {
        "trusted": true,
        "_uuid": "7c3354a78e21a1a62ad0c4689d0ab3238fb760d4",
        "id": "b1RnFvbZ8rIA"
      },
      "cell_type": "code",
      "source": [
        "EPOCHS = 25\n",
        "INIT_LR = 1e-3\n",
        "BS = 32\n",
        "default_image_size = tuple((256, 256))\n",
        "image_size = 0\n",
        "directory_root = '/content/drive/MyDrive/plant/'\n",
        "width=256\n",
        "height=256\n",
        "depth=3"
      ],
      "execution_count": null,
      "outputs": []
    },
    {
      "cell_type": "code",
      "source": [
        "from google.colab import drive\n",
        "drive.mount('/content/drive')"
      ],
      "metadata": {
        "colab": {
          "base_uri": "https://localhost:8080/"
        },
        "id": "G7MDueTq-L7D",
        "outputId": "f9d45f57-666a-46d3-c02b-2866e7f7eca6"
      },
      "execution_count": null,
      "outputs": [
        {
          "output_type": "stream",
          "name": "stdout",
          "text": [
            "Mounted at /content/drive\n"
          ]
        }
      ]
    },
    {
      "metadata": {
        "_uuid": "2bf7ac0a0b805946f844a48e55d5281403e53f57",
        "id": "ORxAT-p68rIB"
      },
      "cell_type": "markdown",
      "source": [
        "Function to convert images to array"
      ]
    },
    {
      "metadata": {
        "trusted": true,
        "_uuid": "c9c3e60b13ace6c8f3e54336e12f9970fde438a3",
        "id": "ASwE1jJD8rIB"
      },
      "cell_type": "code",
      "source": [
        "def convert_image_to_array(image_dir):\n",
        "    try:\n",
        "        image = cv2.imread(image_dir)\n",
        "        if image is not None :\n",
        "            image = cv2.resize(image, default_image_size)   \n",
        "            return img_to_array(image)\n",
        "        else :\n",
        "            return np.array([])\n",
        "    except Exception as e:\n",
        "        print(f\"Error : {e}\")\n",
        "        return None"
      ],
      "execution_count": null,
      "outputs": []
    },
    {
      "metadata": {
        "_uuid": "24d42b87fad54a9556f78357ce673cc5152468c1",
        "id": "-aN2QQZu8rIC"
      },
      "cell_type": "markdown",
      "source": [
        "Fetch images from directory"
      ]
    },
    {
      "metadata": {
        "trusted": true,
        "_uuid": "bb8d4c343314028f52ae3c3a840478a834a16c95",
        "colab": {
          "base_uri": "https://localhost:8080/"
        },
        "id": "ehDb-K_38rID",
        "outputId": "5a41c37d-33fc-4b65-9e2f-ed3fc209e3df"
      },
      "cell_type": "code",
      "source": [
        "image_list, label_list = [], []\n",
        "try:\n",
        "    print(\"[INFO] Loading images ...\")\n",
        "    root_dir = listdir(directory_root)\n",
        "    for directory in root_dir :\n",
        "        # remove .DS_Store from list\n",
        "        if directory == \".DS_Store\" :\n",
        "            root_dir.remove(directory)\n",
        "\n",
        "    for plant_folder in root_dir :\n",
        "        plant_disease_folder_list = listdir(f\"{directory_root}/{plant_folder}\")\n",
        "        \n",
        "        for disease_folder in plant_disease_folder_list :\n",
        "            # remove .DS_Store from list\n",
        "            if disease_folder == \".DS_Store\" :\n",
        "                plant_disease_folder_list.remove(disease_folder)\n",
        "\n",
        "        for plant_disease_folder in plant_disease_folder_list:\n",
        "            print(f\"[INFO] Processing {plant_disease_folder} ...\")\n",
        "            plant_disease_image_list = listdir(f\"{directory_root}/{plant_folder}/{plant_disease_folder}/\")\n",
        "                \n",
        "            for single_plant_disease_image in plant_disease_image_list :\n",
        "                if single_plant_disease_image == \".DS_Store\" :\n",
        "                    plant_disease_image_list.remove(single_plant_disease_image)\n",
        "\n",
        "            for image in plant_disease_image_list[:200]:\n",
        "                image_directory = f\"{directory_root}/{plant_folder}/{plant_disease_folder}/{image}\"\n",
        "                if image_directory.endswith(\".jpg\") == True or image_directory.endswith(\".JPG\") == True:\n",
        "                    image_list.append(convert_image_to_array(image_directory))\n",
        "                    label_list.append(plant_disease_folder)\n",
        "    print(\"[INFO] Image loading completed\")  \n",
        "except Exception as e:\n",
        "    print(f\"Error : {e}\")"
      ],
      "execution_count": null,
      "outputs": [
        {
          "output_type": "stream",
          "name": "stdout",
          "text": [
            "[INFO] Loading images ...\n",
            "[INFO] Processing Pepper__bell___Bacterial_spot ...\n",
            "[INFO] Processing Pepper__bell___healthy ...\n",
            "[INFO] Processing Potato___Early_blight ...\n",
            "[INFO] Processing Potato___Late_blight ...\n",
            "[INFO] Processing Potato___healthy ...\n",
            "[INFO] Processing Tomato_Bacterial_spot ...\n",
            "[INFO] Processing Tomato_Early_blight ...\n",
            "[INFO] Processing Tomato_Late_blight ...\n",
            "[INFO] Processing Tomato_Leaf_Mold ...\n",
            "[INFO] Processing Tomato_Septoria_leaf_spot ...\n",
            "[INFO] Processing Tomato_Spider_mites_Two_spotted_spider_mite ...\n",
            "[INFO] Processing Tomato__Target_Spot ...\n",
            "[INFO] Processing Tomato__Tomato_YellowLeaf__Curl_Virus ...\n",
            "[INFO] Processing Tomato__Tomato_mosaic_virus ...\n",
            "[INFO] Processing Tomato_healthy ...\n",
            "[INFO] Processing PlantVillage ...\n",
            "[INFO] Image loading completed\n"
          ]
        }
      ]
    },
    {
      "metadata": {
        "_uuid": "35c4b76d33e0263523e479657580104532f81d6e",
        "id": "VZIp0aMA8rIE"
      },
      "cell_type": "markdown",
      "source": [
        "Get Size of Processed Image"
      ]
    },
    {
      "metadata": {
        "trusted": true,
        "_uuid": "6ee1ad9c422f112ec2862699b5c0f68b8d658123",
        "id": "elAjj_Dr8rIF"
      },
      "cell_type": "code",
      "source": [
        "image_size = len(image_list)"
      ],
      "execution_count": null,
      "outputs": []
    },
    {
      "metadata": {
        "_uuid": "905b41b226f3fd82a88e67821eb42a07f24b31f7",
        "id": "H7K9wOQK8rIF"
      },
      "cell_type": "markdown",
      "source": [
        "Transform Image Labels uisng [Scikit Learn](http://scikit-learn.org/)'s LabelBinarizer"
      ]
    },
    {
      "cell_type": "code",
      "source": [
        "print(label_list)"
      ],
      "metadata": {
        "colab": {
          "base_uri": "https://localhost:8080/"
        },
        "id": "P1guLXFv_R3b",
        "outputId": "b6615527-a0dc-45ed-d980-07f583afd924"
      },
      "execution_count": null,
      "outputs": [
        {
          "output_type": "stream",
          "name": "stdout",
          "text": [
            "['Pepper__bell___Bacterial_spot', 'Pepper__bell___Bacterial_spot', 'Pepper__bell___Bacterial_spot', 'Pepper__bell___Bacterial_spot', 'Pepper__bell___Bacterial_spot', 'Pepper__bell___Bacterial_spot', 'Pepper__bell___Bacterial_spot', 'Pepper__bell___Bacterial_spot', 'Pepper__bell___Bacterial_spot', 'Pepper__bell___Bacterial_spot', 'Pepper__bell___Bacterial_spot', 'Pepper__bell___Bacterial_spot', 'Pepper__bell___Bacterial_spot', 'Pepper__bell___Bacterial_spot', 'Pepper__bell___Bacterial_spot', 'Pepper__bell___Bacterial_spot', 'Pepper__bell___Bacterial_spot', 'Pepper__bell___Bacterial_spot', 'Pepper__bell___Bacterial_spot', 'Pepper__bell___Bacterial_spot', 'Pepper__bell___Bacterial_spot', 'Pepper__bell___Bacterial_spot', 'Pepper__bell___Bacterial_spot', 'Pepper__bell___Bacterial_spot', 'Pepper__bell___Bacterial_spot', 'Pepper__bell___Bacterial_spot', 'Pepper__bell___Bacterial_spot', 'Pepper__bell___Bacterial_spot', 'Pepper__bell___Bacterial_spot', 'Pepper__bell___Bacterial_spot', 'Pepper__bell___Bacterial_spot', 'Pepper__bell___Bacterial_spot', 'Pepper__bell___Bacterial_spot', 'Pepper__bell___Bacterial_spot', 'Pepper__bell___Bacterial_spot', 'Pepper__bell___Bacterial_spot', 'Pepper__bell___Bacterial_spot', 'Pepper__bell___Bacterial_spot', 'Pepper__bell___Bacterial_spot', 'Pepper__bell___Bacterial_spot', 'Pepper__bell___Bacterial_spot', 'Pepper__bell___Bacterial_spot', 'Pepper__bell___Bacterial_spot', 'Pepper__bell___Bacterial_spot', 'Pepper__bell___Bacterial_spot', 'Pepper__bell___Bacterial_spot', 'Pepper__bell___Bacterial_spot', 'Pepper__bell___Bacterial_spot', 'Pepper__bell___Bacterial_spot', 'Pepper__bell___Bacterial_spot', 'Pepper__bell___Bacterial_spot', 'Pepper__bell___Bacterial_spot', 'Pepper__bell___Bacterial_spot', 'Pepper__bell___Bacterial_spot', 'Pepper__bell___Bacterial_spot', 'Pepper__bell___Bacterial_spot', 'Pepper__bell___Bacterial_spot', 'Pepper__bell___Bacterial_spot', 'Pepper__bell___Bacterial_spot', 'Pepper__bell___Bacterial_spot', 'Pepper__bell___Bacterial_spot', 'Pepper__bell___Bacterial_spot', 'Pepper__bell___Bacterial_spot', 'Pepper__bell___Bacterial_spot', 'Pepper__bell___Bacterial_spot', 'Pepper__bell___Bacterial_spot', 'Pepper__bell___Bacterial_spot', 'Pepper__bell___Bacterial_spot', 'Pepper__bell___Bacterial_spot', 'Pepper__bell___Bacterial_spot', 'Pepper__bell___Bacterial_spot', 'Pepper__bell___Bacterial_spot', 'Pepper__bell___Bacterial_spot', 'Pepper__bell___Bacterial_spot', 'Pepper__bell___Bacterial_spot', 'Pepper__bell___Bacterial_spot', 'Pepper__bell___Bacterial_spot', 'Pepper__bell___Bacterial_spot', 'Pepper__bell___Bacterial_spot', 'Pepper__bell___Bacterial_spot', 'Pepper__bell___Bacterial_spot', 'Pepper__bell___Bacterial_spot', 'Pepper__bell___Bacterial_spot', 'Pepper__bell___Bacterial_spot', 'Pepper__bell___Bacterial_spot', 'Pepper__bell___Bacterial_spot', 'Pepper__bell___Bacterial_spot', 'Pepper__bell___Bacterial_spot', 'Pepper__bell___Bacterial_spot', 'Pepper__bell___Bacterial_spot', 'Pepper__bell___Bacterial_spot', 'Pepper__bell___Bacterial_spot', 'Pepper__bell___Bacterial_spot', 'Pepper__bell___Bacterial_spot', 'Pepper__bell___Bacterial_spot', 'Pepper__bell___Bacterial_spot', 'Pepper__bell___Bacterial_spot', 'Pepper__bell___Bacterial_spot', 'Pepper__bell___Bacterial_spot', 'Pepper__bell___Bacterial_spot', 'Pepper__bell___Bacterial_spot', 'Pepper__bell___Bacterial_spot', 'Pepper__bell___Bacterial_spot', 'Pepper__bell___Bacterial_spot', 'Pepper__bell___Bacterial_spot', 'Pepper__bell___Bacterial_spot', 'Pepper__bell___Bacterial_spot', 'Pepper__bell___Bacterial_spot', 'Pepper__bell___Bacterial_spot', 'Pepper__bell___Bacterial_spot', 'Pepper__bell___Bacterial_spot', 'Pepper__bell___Bacterial_spot', 'Pepper__bell___Bacterial_spot', 'Pepper__bell___Bacterial_spot', 'Pepper__bell___Bacterial_spot', 'Pepper__bell___Bacterial_spot', 'Pepper__bell___Bacterial_spot', 'Pepper__bell___Bacterial_spot', 'Pepper__bell___Bacterial_spot', 'Pepper__bell___Bacterial_spot', 'Pepper__bell___Bacterial_spot', 'Pepper__bell___Bacterial_spot', 'Pepper__bell___Bacterial_spot', 'Pepper__bell___Bacterial_spot', 'Pepper__bell___Bacterial_spot', 'Pepper__bell___Bacterial_spot', 'Pepper__bell___Bacterial_spot', 'Pepper__bell___Bacterial_spot', 'Pepper__bell___Bacterial_spot', 'Pepper__bell___Bacterial_spot', 'Pepper__bell___Bacterial_spot', 'Pepper__bell___Bacterial_spot', 'Pepper__bell___Bacterial_spot', 'Pepper__bell___Bacterial_spot', 'Pepper__bell___Bacterial_spot', 'Pepper__bell___Bacterial_spot', 'Pepper__bell___Bacterial_spot', 'Pepper__bell___Bacterial_spot', 'Pepper__bell___Bacterial_spot', 'Pepper__bell___Bacterial_spot', 'Pepper__bell___Bacterial_spot', 'Pepper__bell___Bacterial_spot', 'Pepper__bell___Bacterial_spot', 'Pepper__bell___Bacterial_spot', 'Pepper__bell___Bacterial_spot', 'Pepper__bell___Bacterial_spot', 'Pepper__bell___Bacterial_spot', 'Pepper__bell___Bacterial_spot', 'Pepper__bell___Bacterial_spot', 'Pepper__bell___Bacterial_spot', 'Pepper__bell___Bacterial_spot', 'Pepper__bell___Bacterial_spot', 'Pepper__bell___Bacterial_spot', 'Pepper__bell___Bacterial_spot', 'Pepper__bell___Bacterial_spot', 'Pepper__bell___Bacterial_spot', 'Pepper__bell___Bacterial_spot', 'Pepper__bell___Bacterial_spot', 'Pepper__bell___Bacterial_spot', 'Pepper__bell___Bacterial_spot', 'Pepper__bell___Bacterial_spot', 'Pepper__bell___Bacterial_spot', 'Pepper__bell___Bacterial_spot', 'Pepper__bell___Bacterial_spot', 'Pepper__bell___Bacterial_spot', 'Pepper__bell___Bacterial_spot', 'Pepper__bell___Bacterial_spot', 'Pepper__bell___Bacterial_spot', 'Pepper__bell___Bacterial_spot', 'Pepper__bell___Bacterial_spot', 'Pepper__bell___Bacterial_spot', 'Pepper__bell___Bacterial_spot', 'Pepper__bell___Bacterial_spot', 'Pepper__bell___Bacterial_spot', 'Pepper__bell___Bacterial_spot', 'Pepper__bell___Bacterial_spot', 'Pepper__bell___Bacterial_spot', 'Pepper__bell___Bacterial_spot', 'Pepper__bell___Bacterial_spot', 'Pepper__bell___Bacterial_spot', 'Pepper__bell___Bacterial_spot', 'Pepper__bell___Bacterial_spot', 'Pepper__bell___Bacterial_spot', 'Pepper__bell___Bacterial_spot', 'Pepper__bell___Bacterial_spot', 'Pepper__bell___Bacterial_spot', 'Pepper__bell___Bacterial_spot', 'Pepper__bell___Bacterial_spot', 'Pepper__bell___Bacterial_spot', 'Pepper__bell___Bacterial_spot', 'Pepper__bell___Bacterial_spot', 'Pepper__bell___Bacterial_spot', 'Pepper__bell___Bacterial_spot', 'Pepper__bell___Bacterial_spot', 'Pepper__bell___Bacterial_spot', 'Pepper__bell___Bacterial_spot', 'Pepper__bell___Bacterial_spot', 'Pepper__bell___Bacterial_spot', 'Pepper__bell___Bacterial_spot', 'Pepper__bell___Bacterial_spot', 'Pepper__bell___healthy', 'Pepper__bell___healthy', 'Pepper__bell___healthy', 'Pepper__bell___healthy', 'Pepper__bell___healthy', 'Pepper__bell___healthy', 'Pepper__bell___healthy', 'Pepper__bell___healthy', 'Pepper__bell___healthy', 'Pepper__bell___healthy', 'Pepper__bell___healthy', 'Pepper__bell___healthy', 'Pepper__bell___healthy', 'Pepper__bell___healthy', 'Pepper__bell___healthy', 'Pepper__bell___healthy', 'Pepper__bell___healthy', 'Pepper__bell___healthy', 'Pepper__bell___healthy', 'Pepper__bell___healthy', 'Pepper__bell___healthy', 'Pepper__bell___healthy', 'Pepper__bell___healthy', 'Pepper__bell___healthy', 'Pepper__bell___healthy', 'Pepper__bell___healthy', 'Pepper__bell___healthy', 'Pepper__bell___healthy', 'Pepper__bell___healthy', 'Pepper__bell___healthy', 'Pepper__bell___healthy', 'Pepper__bell___healthy', 'Pepper__bell___healthy', 'Pepper__bell___healthy', 'Pepper__bell___healthy', 'Pepper__bell___healthy', 'Pepper__bell___healthy', 'Pepper__bell___healthy', 'Pepper__bell___healthy', 'Pepper__bell___healthy', 'Pepper__bell___healthy', 'Pepper__bell___healthy', 'Pepper__bell___healthy', 'Pepper__bell___healthy', 'Pepper__bell___healthy', 'Pepper__bell___healthy', 'Pepper__bell___healthy', 'Pepper__bell___healthy', 'Pepper__bell___healthy', 'Pepper__bell___healthy', 'Pepper__bell___healthy', 'Pepper__bell___healthy', 'Pepper__bell___healthy', 'Pepper__bell___healthy', 'Pepper__bell___healthy', 'Pepper__bell___healthy', 'Pepper__bell___healthy', 'Pepper__bell___healthy', 'Pepper__bell___healthy', 'Pepper__bell___healthy', 'Pepper__bell___healthy', 'Pepper__bell___healthy', 'Pepper__bell___healthy', 'Pepper__bell___healthy', 'Pepper__bell___healthy', 'Pepper__bell___healthy', 'Pepper__bell___healthy', 'Pepper__bell___healthy', 'Pepper__bell___healthy', 'Pepper__bell___healthy', 'Pepper__bell___healthy', 'Pepper__bell___healthy', 'Pepper__bell___healthy', 'Pepper__bell___healthy', 'Pepper__bell___healthy', 'Pepper__bell___healthy', 'Pepper__bell___healthy', 'Pepper__bell___healthy', 'Pepper__bell___healthy', 'Pepper__bell___healthy', 'Pepper__bell___healthy', 'Pepper__bell___healthy', 'Pepper__bell___healthy', 'Pepper__bell___healthy', 'Pepper__bell___healthy', 'Pepper__bell___healthy', 'Pepper__bell___healthy', 'Pepper__bell___healthy', 'Pepper__bell___healthy', 'Pepper__bell___healthy', 'Pepper__bell___healthy', 'Pepper__bell___healthy', 'Pepper__bell___healthy', 'Pepper__bell___healthy', 'Pepper__bell___healthy', 'Pepper__bell___healthy', 'Pepper__bell___healthy', 'Pepper__bell___healthy', 'Pepper__bell___healthy', 'Pepper__bell___healthy', 'Pepper__bell___healthy', 'Pepper__bell___healthy', 'Pepper__bell___healthy', 'Pepper__bell___healthy', 'Pepper__bell___healthy', 'Pepper__bell___healthy', 'Pepper__bell___healthy', 'Pepper__bell___healthy', 'Pepper__bell___healthy', 'Pepper__bell___healthy', 'Pepper__bell___healthy', 'Pepper__bell___healthy', 'Pepper__bell___healthy', 'Pepper__bell___healthy', 'Pepper__bell___healthy', 'Pepper__bell___healthy', 'Pepper__bell___healthy', 'Pepper__bell___healthy', 'Pepper__bell___healthy', 'Pepper__bell___healthy', 'Pepper__bell___healthy', 'Pepper__bell___healthy', 'Pepper__bell___healthy', 'Pepper__bell___healthy', 'Pepper__bell___healthy', 'Pepper__bell___healthy', 'Pepper__bell___healthy', 'Pepper__bell___healthy', 'Pepper__bell___healthy', 'Pepper__bell___healthy', 'Pepper__bell___healthy', 'Pepper__bell___healthy', 'Pepper__bell___healthy', 'Pepper__bell___healthy', 'Pepper__bell___healthy', 'Pepper__bell___healthy', 'Pepper__bell___healthy', 'Pepper__bell___healthy', 'Pepper__bell___healthy', 'Pepper__bell___healthy', 'Pepper__bell___healthy', 'Pepper__bell___healthy', 'Pepper__bell___healthy', 'Pepper__bell___healthy', 'Pepper__bell___healthy', 'Pepper__bell___healthy', 'Pepper__bell___healthy', 'Pepper__bell___healthy', 'Pepper__bell___healthy', 'Pepper__bell___healthy', 'Pepper__bell___healthy', 'Pepper__bell___healthy', 'Pepper__bell___healthy', 'Pepper__bell___healthy', 'Pepper__bell___healthy', 'Pepper__bell___healthy', 'Pepper__bell___healthy', 'Pepper__bell___healthy', 'Pepper__bell___healthy', 'Pepper__bell___healthy', 'Pepper__bell___healthy', 'Pepper__bell___healthy', 'Pepper__bell___healthy', 'Pepper__bell___healthy', 'Pepper__bell___healthy', 'Pepper__bell___healthy', 'Pepper__bell___healthy', 'Pepper__bell___healthy', 'Pepper__bell___healthy', 'Pepper__bell___healthy', 'Pepper__bell___healthy', 'Pepper__bell___healthy', 'Pepper__bell___healthy', 'Pepper__bell___healthy', 'Pepper__bell___healthy', 'Pepper__bell___healthy', 'Pepper__bell___healthy', 'Pepper__bell___healthy', 'Pepper__bell___healthy', 'Pepper__bell___healthy', 'Pepper__bell___healthy', 'Pepper__bell___healthy', 'Pepper__bell___healthy', 'Pepper__bell___healthy', 'Pepper__bell___healthy', 'Pepper__bell___healthy', 'Pepper__bell___healthy', 'Pepper__bell___healthy', 'Pepper__bell___healthy', 'Pepper__bell___healthy', 'Pepper__bell___healthy', 'Pepper__bell___healthy', 'Pepper__bell___healthy', 'Pepper__bell___healthy', 'Pepper__bell___healthy', 'Pepper__bell___healthy', 'Pepper__bell___healthy', 'Pepper__bell___healthy', 'Pepper__bell___healthy', 'Pepper__bell___healthy', 'Potato___Early_blight', 'Potato___Early_blight', 'Potato___Early_blight', 'Potato___Early_blight', 'Potato___Early_blight', 'Potato___Early_blight', 'Potato___Early_blight', 'Potato___Early_blight', 'Potato___Early_blight', 'Potato___Early_blight', 'Potato___Early_blight', 'Potato___Early_blight', 'Potato___Early_blight', 'Potato___Early_blight', 'Potato___Early_blight', 'Potato___Early_blight', 'Potato___Early_blight', 'Potato___Early_blight', 'Potato___Early_blight', 'Potato___Early_blight', 'Potato___Early_blight', 'Potato___Early_blight', 'Potato___Early_blight', 'Potato___Early_blight', 'Potato___Early_blight', 'Potato___Early_blight', 'Potato___Early_blight', 'Potato___Early_blight', 'Potato___Early_blight', 'Potato___Early_blight', 'Potato___Early_blight', 'Potato___Early_blight', 'Potato___Early_blight', 'Potato___Early_blight', 'Potato___Early_blight', 'Potato___Early_blight', 'Potato___Early_blight', 'Potato___Early_blight', 'Potato___Early_blight', 'Potato___Early_blight', 'Potato___Early_blight', 'Potato___Early_blight', 'Potato___Early_blight', 'Potato___Early_blight', 'Potato___Early_blight', 'Potato___Early_blight', 'Potato___Early_blight', 'Potato___Early_blight', 'Potato___Early_blight', 'Potato___Early_blight', 'Potato___Early_blight', 'Potato___Early_blight', 'Potato___Early_blight', 'Potato___Early_blight', 'Potato___Early_blight', 'Potato___Early_blight', 'Potato___Early_blight', 'Potato___Early_blight', 'Potato___Early_blight', 'Potato___Early_blight', 'Potato___Early_blight', 'Potato___Early_blight', 'Potato___Early_blight', 'Potato___Early_blight', 'Potato___Early_blight', 'Potato___Early_blight', 'Potato___Early_blight', 'Potato___Early_blight', 'Potato___Early_blight', 'Potato___Early_blight', 'Potato___Early_blight', 'Potato___Early_blight', 'Potato___Early_blight', 'Potato___Early_blight', 'Potato___Early_blight', 'Potato___Early_blight', 'Potato___Early_blight', 'Potato___Early_blight', 'Potato___Early_blight', 'Potato___Early_blight', 'Potato___Early_blight', 'Potato___Early_blight', 'Potato___Early_blight', 'Potato___Early_blight', 'Potato___Early_blight', 'Potato___Early_blight', 'Potato___Early_blight', 'Potato___Early_blight', 'Potato___Early_blight', 'Potato___Early_blight', 'Potato___Early_blight', 'Potato___Early_blight', 'Potato___Early_blight', 'Potato___Early_blight', 'Potato___Early_blight', 'Potato___Early_blight', 'Potato___Early_blight', 'Potato___Early_blight', 'Potato___Early_blight', 'Potato___Early_blight', 'Potato___Early_blight', 'Potato___Early_blight', 'Potato___Early_blight', 'Potato___Early_blight', 'Potato___Early_blight', 'Potato___Early_blight', 'Potato___Early_blight', 'Potato___Early_blight', 'Potato___Early_blight', 'Potato___Early_blight', 'Potato___Early_blight', 'Potato___Early_blight', 'Potato___Early_blight', 'Potato___Early_blight', 'Potato___Early_blight', 'Potato___Early_blight', 'Potato___Early_blight', 'Potato___Early_blight', 'Potato___Early_blight', 'Potato___Early_blight', 'Potato___Early_blight', 'Potato___Early_blight', 'Potato___Early_blight', 'Potato___Early_blight', 'Potato___Early_blight', 'Potato___Early_blight', 'Potato___Early_blight', 'Potato___Early_blight', 'Potato___Early_blight', 'Potato___Early_blight', 'Potato___Early_blight', 'Potato___Early_blight', 'Potato___Early_blight', 'Potato___Early_blight', 'Potato___Early_blight', 'Potato___Early_blight', 'Potato___Early_blight', 'Potato___Early_blight', 'Potato___Early_blight', 'Potato___Early_blight', 'Potato___Early_blight', 'Potato___Early_blight', 'Potato___Early_blight', 'Potato___Early_blight', 'Potato___Early_blight', 'Potato___Early_blight', 'Potato___Early_blight', 'Potato___Early_blight', 'Potato___Early_blight', 'Potato___Early_blight', 'Potato___Early_blight', 'Potato___Early_blight', 'Potato___Early_blight', 'Potato___Early_blight', 'Potato___Early_blight', 'Potato___Early_blight', 'Potato___Early_blight', 'Potato___Early_blight', 'Potato___Early_blight', 'Potato___Early_blight', 'Potato___Early_blight', 'Potato___Early_blight', 'Potato___Early_blight', 'Potato___Early_blight', 'Potato___Early_blight', 'Potato___Early_blight', 'Potato___Early_blight', 'Potato___Early_blight', 'Potato___Early_blight', 'Potato___Early_blight', 'Potato___Early_blight', 'Potato___Early_blight', 'Potato___Early_blight', 'Potato___Early_blight', 'Potato___Early_blight', 'Potato___Early_blight', 'Potato___Early_blight', 'Potato___Early_blight', 'Potato___Early_blight', 'Potato___Early_blight', 'Potato___Early_blight', 'Potato___Early_blight', 'Potato___Early_blight', 'Potato___Early_blight', 'Potato___Early_blight', 'Potato___Early_blight', 'Potato___Early_blight', 'Potato___Early_blight', 'Potato___Early_blight', 'Potato___Early_blight', 'Potato___Early_blight', 'Potato___Early_blight', 'Potato___Early_blight', 'Potato___Early_blight', 'Potato___Early_blight', 'Potato___Early_blight', 'Potato___Early_blight', 'Potato___Early_blight', 'Potato___Early_blight', 'Potato___Early_blight', 'Potato___Late_blight', 'Potato___Late_blight', 'Potato___Late_blight', 'Potato___Late_blight', 'Potato___Late_blight', 'Potato___Late_blight', 'Potato___Late_blight', 'Potato___Late_blight', 'Potato___Late_blight', 'Potato___Late_blight', 'Potato___Late_blight', 'Potato___Late_blight', 'Potato___Late_blight', 'Potato___Late_blight', 'Potato___Late_blight', 'Potato___Late_blight', 'Potato___Late_blight', 'Potato___Late_blight', 'Potato___Late_blight', 'Potato___Late_blight', 'Potato___Late_blight', 'Potato___Late_blight', 'Potato___Late_blight', 'Potato___Late_blight', 'Potato___Late_blight', 'Potato___Late_blight', 'Potato___Late_blight', 'Potato___Late_blight', 'Potato___Late_blight', 'Potato___Late_blight', 'Potato___Late_blight', 'Potato___Late_blight', 'Potato___Late_blight', 'Potato___Late_blight', 'Potato___Late_blight', 'Potato___Late_blight', 'Potato___Late_blight', 'Potato___Late_blight', 'Potato___Late_blight', 'Potato___Late_blight', 'Potato___Late_blight', 'Potato___Late_blight', 'Potato___Late_blight', 'Potato___Late_blight', 'Potato___Late_blight', 'Potato___Late_blight', 'Potato___Late_blight', 'Potato___Late_blight', 'Potato___Late_blight', 'Potato___Late_blight', 'Potato___Late_blight', 'Potato___Late_blight', 'Potato___Late_blight', 'Potato___Late_blight', 'Potato___Late_blight', 'Potato___Late_blight', 'Potato___Late_blight', 'Potato___Late_blight', 'Potato___Late_blight', 'Potato___Late_blight', 'Potato___Late_blight', 'Potato___Late_blight', 'Potato___Late_blight', 'Potato___Late_blight', 'Potato___Late_blight', 'Potato___Late_blight', 'Potato___Late_blight', 'Potato___Late_blight', 'Potato___Late_blight', 'Potato___Late_blight', 'Potato___Late_blight', 'Potato___Late_blight', 'Potato___Late_blight', 'Potato___Late_blight', 'Potato___Late_blight', 'Potato___Late_blight', 'Potato___Late_blight', 'Potato___Late_blight', 'Potato___Late_blight', 'Potato___Late_blight', 'Potato___Late_blight', 'Potato___Late_blight', 'Potato___Late_blight', 'Potato___Late_blight', 'Potato___Late_blight', 'Potato___Late_blight', 'Potato___Late_blight', 'Potato___Late_blight', 'Potato___Late_blight', 'Potato___Late_blight', 'Potato___Late_blight', 'Potato___Late_blight', 'Potato___Late_blight', 'Potato___Late_blight', 'Potato___Late_blight', 'Potato___Late_blight', 'Potato___Late_blight', 'Potato___Late_blight', 'Potato___Late_blight', 'Potato___Late_blight', 'Potato___Late_blight', 'Potato___Late_blight', 'Potato___Late_blight', 'Potato___Late_blight', 'Potato___Late_blight', 'Potato___Late_blight', 'Potato___Late_blight', 'Potato___Late_blight', 'Potato___Late_blight', 'Potato___Late_blight', 'Potato___Late_blight', 'Potato___Late_blight', 'Potato___Late_blight', 'Potato___Late_blight', 'Potato___Late_blight', 'Potato___Late_blight', 'Potato___Late_blight', 'Potato___Late_blight', 'Potato___Late_blight', 'Potato___Late_blight', 'Potato___Late_blight', 'Potato___Late_blight', 'Potato___Late_blight', 'Potato___Late_blight', 'Potato___Late_blight', 'Potato___Late_blight', 'Potato___Late_blight', 'Potato___Late_blight', 'Potato___Late_blight', 'Potato___Late_blight', 'Potato___Late_blight', 'Potato___Late_blight', 'Potato___Late_blight', 'Potato___Late_blight', 'Potato___Late_blight', 'Potato___Late_blight', 'Potato___Late_blight', 'Potato___Late_blight', 'Potato___Late_blight', 'Potato___Late_blight', 'Potato___Late_blight', 'Potato___Late_blight', 'Potato___Late_blight', 'Potato___Late_blight', 'Potato___Late_blight', 'Potato___Late_blight', 'Potato___Late_blight', 'Potato___Late_blight', 'Potato___Late_blight', 'Potato___Late_blight', 'Potato___Late_blight', 'Potato___Late_blight', 'Potato___Late_blight', 'Potato___Late_blight', 'Potato___Late_blight', 'Potato___Late_blight', 'Potato___Late_blight', 'Potato___Late_blight', 'Potato___Late_blight', 'Potato___Late_blight', 'Potato___Late_blight', 'Potato___Late_blight', 'Potato___Late_blight', 'Potato___Late_blight', 'Potato___Late_blight', 'Potato___Late_blight', 'Potato___Late_blight', 'Potato___Late_blight', 'Potato___Late_blight', 'Potato___Late_blight', 'Potato___Late_blight', 'Potato___Late_blight', 'Potato___Late_blight', 'Potato___Late_blight', 'Potato___Late_blight', 'Potato___Late_blight', 'Potato___Late_blight', 'Potato___Late_blight', 'Potato___Late_blight', 'Potato___Late_blight', 'Potato___Late_blight', 'Potato___Late_blight', 'Potato___Late_blight', 'Potato___Late_blight', 'Potato___Late_blight', 'Potato___Late_blight', 'Potato___Late_blight', 'Potato___Late_blight', 'Potato___Late_blight', 'Potato___Late_blight', 'Potato___Late_blight', 'Potato___Late_blight', 'Potato___Late_blight', 'Potato___Late_blight', 'Potato___Late_blight', 'Potato___Late_blight', 'Potato___Late_blight', 'Potato___Late_blight', 'Potato___Late_blight', 'Potato___Late_blight', 'Potato___healthy', 'Potato___healthy', 'Potato___healthy', 'Potato___healthy', 'Potato___healthy', 'Potato___healthy', 'Potato___healthy', 'Potato___healthy', 'Potato___healthy', 'Potato___healthy', 'Potato___healthy', 'Potato___healthy', 'Potato___healthy', 'Potato___healthy', 'Potato___healthy', 'Potato___healthy', 'Potato___healthy', 'Potato___healthy', 'Potato___healthy', 'Potato___healthy', 'Potato___healthy', 'Potato___healthy', 'Potato___healthy', 'Potato___healthy', 'Potato___healthy', 'Potato___healthy', 'Potato___healthy', 'Potato___healthy', 'Potato___healthy', 'Potato___healthy', 'Potato___healthy', 'Potato___healthy', 'Potato___healthy', 'Potato___healthy', 'Potato___healthy', 'Potato___healthy', 'Potato___healthy', 'Potato___healthy', 'Potato___healthy', 'Potato___healthy', 'Potato___healthy', 'Potato___healthy', 'Potato___healthy', 'Potato___healthy', 'Potato___healthy', 'Potato___healthy', 'Potato___healthy', 'Potato___healthy', 'Potato___healthy', 'Potato___healthy', 'Potato___healthy', 'Potato___healthy', 'Potato___healthy', 'Potato___healthy', 'Potato___healthy', 'Potato___healthy', 'Potato___healthy', 'Potato___healthy', 'Potato___healthy', 'Potato___healthy', 'Potato___healthy', 'Potato___healthy', 'Potato___healthy', 'Potato___healthy', 'Potato___healthy', 'Potato___healthy', 'Potato___healthy', 'Potato___healthy', 'Potato___healthy', 'Potato___healthy', 'Potato___healthy', 'Potato___healthy', 'Potato___healthy', 'Potato___healthy', 'Potato___healthy', 'Potato___healthy', 'Potato___healthy', 'Potato___healthy', 'Potato___healthy', 'Potato___healthy', 'Potato___healthy', 'Potato___healthy', 'Potato___healthy', 'Potato___healthy', 'Potato___healthy', 'Potato___healthy', 'Potato___healthy', 'Potato___healthy', 'Potato___healthy', 'Potato___healthy', 'Potato___healthy', 'Potato___healthy', 'Potato___healthy', 'Potato___healthy', 'Potato___healthy', 'Potato___healthy', 'Potato___healthy', 'Potato___healthy', 'Potato___healthy', 'Potato___healthy', 'Potato___healthy', 'Potato___healthy', 'Potato___healthy', 'Potato___healthy', 'Potato___healthy', 'Potato___healthy', 'Potato___healthy', 'Potato___healthy', 'Potato___healthy', 'Potato___healthy', 'Potato___healthy', 'Potato___healthy', 'Potato___healthy', 'Potato___healthy', 'Potato___healthy', 'Potato___healthy', 'Potato___healthy', 'Potato___healthy', 'Potato___healthy', 'Potato___healthy', 'Potato___healthy', 'Potato___healthy', 'Potato___healthy', 'Potato___healthy', 'Potato___healthy', 'Potato___healthy', 'Potato___healthy', 'Potato___healthy', 'Potato___healthy', 'Potato___healthy', 'Potato___healthy', 'Potato___healthy', 'Potato___healthy', 'Potato___healthy', 'Potato___healthy', 'Potato___healthy', 'Potato___healthy', 'Potato___healthy', 'Potato___healthy', 'Potato___healthy', 'Potato___healthy', 'Potato___healthy', 'Potato___healthy', 'Potato___healthy', 'Potato___healthy', 'Potato___healthy', 'Potato___healthy', 'Potato___healthy', 'Potato___healthy', 'Potato___healthy', 'Potato___healthy', 'Potato___healthy', 'Tomato_Bacterial_spot', 'Tomato_Bacterial_spot', 'Tomato_Bacterial_spot', 'Tomato_Bacterial_spot', 'Tomato_Bacterial_spot', 'Tomato_Bacterial_spot', 'Tomato_Bacterial_spot', 'Tomato_Bacterial_spot', 'Tomato_Bacterial_spot', 'Tomato_Bacterial_spot', 'Tomato_Bacterial_spot', 'Tomato_Bacterial_spot', 'Tomato_Bacterial_spot', 'Tomato_Bacterial_spot', 'Tomato_Bacterial_spot', 'Tomato_Bacterial_spot', 'Tomato_Bacterial_spot', 'Tomato_Bacterial_spot', 'Tomato_Bacterial_spot', 'Tomato_Bacterial_spot', 'Tomato_Bacterial_spot', 'Tomato_Bacterial_spot', 'Tomato_Bacterial_spot', 'Tomato_Bacterial_spot', 'Tomato_Bacterial_spot', 'Tomato_Bacterial_spot', 'Tomato_Bacterial_spot', 'Tomato_Bacterial_spot', 'Tomato_Bacterial_spot', 'Tomato_Bacterial_spot', 'Tomato_Bacterial_spot', 'Tomato_Bacterial_spot', 'Tomato_Bacterial_spot', 'Tomato_Bacterial_spot', 'Tomato_Bacterial_spot', 'Tomato_Bacterial_spot', 'Tomato_Bacterial_spot', 'Tomato_Bacterial_spot', 'Tomato_Bacterial_spot', 'Tomato_Bacterial_spot', 'Tomato_Bacterial_spot', 'Tomato_Bacterial_spot', 'Tomato_Bacterial_spot', 'Tomato_Bacterial_spot', 'Tomato_Bacterial_spot', 'Tomato_Bacterial_spot', 'Tomato_Bacterial_spot', 'Tomato_Bacterial_spot', 'Tomato_Bacterial_spot', 'Tomato_Bacterial_spot', 'Tomato_Bacterial_spot', 'Tomato_Bacterial_spot', 'Tomato_Bacterial_spot', 'Tomato_Bacterial_spot', 'Tomato_Bacterial_spot', 'Tomato_Bacterial_spot', 'Tomato_Bacterial_spot', 'Tomato_Bacterial_spot', 'Tomato_Bacterial_spot', 'Tomato_Bacterial_spot', 'Tomato_Bacterial_spot', 'Tomato_Bacterial_spot', 'Tomato_Bacterial_spot', 'Tomato_Bacterial_spot', 'Tomato_Bacterial_spot', 'Tomato_Bacterial_spot', 'Tomato_Bacterial_spot', 'Tomato_Bacterial_spot', 'Tomato_Bacterial_spot', 'Tomato_Bacterial_spot', 'Tomato_Bacterial_spot', 'Tomato_Bacterial_spot', 'Tomato_Bacterial_spot', 'Tomato_Bacterial_spot', 'Tomato_Bacterial_spot', 'Tomato_Bacterial_spot', 'Tomato_Bacterial_spot', 'Tomato_Bacterial_spot', 'Tomato_Bacterial_spot', 'Tomato_Bacterial_spot', 'Tomato_Bacterial_spot', 'Tomato_Bacterial_spot', 'Tomato_Bacterial_spot', 'Tomato_Bacterial_spot', 'Tomato_Bacterial_spot', 'Tomato_Bacterial_spot', 'Tomato_Bacterial_spot', 'Tomato_Bacterial_spot', 'Tomato_Bacterial_spot', 'Tomato_Bacterial_spot', 'Tomato_Bacterial_spot', 'Tomato_Bacterial_spot', 'Tomato_Bacterial_spot', 'Tomato_Bacterial_spot', 'Tomato_Bacterial_spot', 'Tomato_Bacterial_spot', 'Tomato_Bacterial_spot', 'Tomato_Bacterial_spot', 'Tomato_Bacterial_spot', 'Tomato_Bacterial_spot', 'Tomato_Bacterial_spot', 'Tomato_Bacterial_spot', 'Tomato_Bacterial_spot', 'Tomato_Bacterial_spot', 'Tomato_Bacterial_spot', 'Tomato_Bacterial_spot', 'Tomato_Bacterial_spot', 'Tomato_Bacterial_spot', 'Tomato_Bacterial_spot', 'Tomato_Bacterial_spot', 'Tomato_Bacterial_spot', 'Tomato_Bacterial_spot', 'Tomato_Bacterial_spot', 'Tomato_Bacterial_spot', 'Tomato_Bacterial_spot', 'Tomato_Bacterial_spot', 'Tomato_Bacterial_spot', 'Tomato_Bacterial_spot', 'Tomato_Bacterial_spot', 'Tomato_Bacterial_spot', 'Tomato_Bacterial_spot', 'Tomato_Bacterial_spot', 'Tomato_Bacterial_spot', 'Tomato_Bacterial_spot', 'Tomato_Bacterial_spot', 'Tomato_Bacterial_spot', 'Tomato_Bacterial_spot', 'Tomato_Bacterial_spot', 'Tomato_Bacterial_spot', 'Tomato_Bacterial_spot', 'Tomato_Bacterial_spot', 'Tomato_Bacterial_spot', 'Tomato_Bacterial_spot', 'Tomato_Bacterial_spot', 'Tomato_Bacterial_spot', 'Tomato_Bacterial_spot', 'Tomato_Bacterial_spot', 'Tomato_Bacterial_spot', 'Tomato_Bacterial_spot', 'Tomato_Bacterial_spot', 'Tomato_Bacterial_spot', 'Tomato_Bacterial_spot', 'Tomato_Bacterial_spot', 'Tomato_Bacterial_spot', 'Tomato_Bacterial_spot', 'Tomato_Bacterial_spot', 'Tomato_Bacterial_spot', 'Tomato_Bacterial_spot', 'Tomato_Bacterial_spot', 'Tomato_Bacterial_spot', 'Tomato_Bacterial_spot', 'Tomato_Bacterial_spot', 'Tomato_Bacterial_spot', 'Tomato_Bacterial_spot', 'Tomato_Bacterial_spot', 'Tomato_Bacterial_spot', 'Tomato_Bacterial_spot', 'Tomato_Bacterial_spot', 'Tomato_Bacterial_spot', 'Tomato_Bacterial_spot', 'Tomato_Bacterial_spot', 'Tomato_Bacterial_spot', 'Tomato_Bacterial_spot', 'Tomato_Bacterial_spot', 'Tomato_Bacterial_spot', 'Tomato_Bacterial_spot', 'Tomato_Bacterial_spot', 'Tomato_Bacterial_spot', 'Tomato_Bacterial_spot', 'Tomato_Bacterial_spot', 'Tomato_Bacterial_spot', 'Tomato_Bacterial_spot', 'Tomato_Bacterial_spot', 'Tomato_Bacterial_spot', 'Tomato_Bacterial_spot', 'Tomato_Bacterial_spot', 'Tomato_Bacterial_spot', 'Tomato_Bacterial_spot', 'Tomato_Bacterial_spot', 'Tomato_Bacterial_spot', 'Tomato_Bacterial_spot', 'Tomato_Bacterial_spot', 'Tomato_Bacterial_spot', 'Tomato_Bacterial_spot', 'Tomato_Bacterial_spot', 'Tomato_Bacterial_spot', 'Tomato_Bacterial_spot', 'Tomato_Bacterial_spot', 'Tomato_Bacterial_spot', 'Tomato_Bacterial_spot', 'Tomato_Bacterial_spot', 'Tomato_Bacterial_spot', 'Tomato_Bacterial_spot', 'Tomato_Bacterial_spot', 'Tomato_Bacterial_spot', 'Tomato_Bacterial_spot', 'Tomato_Bacterial_spot', 'Tomato_Bacterial_spot', 'Tomato_Bacterial_spot', 'Tomato_Bacterial_spot', 'Tomato_Early_blight', 'Tomato_Early_blight', 'Tomato_Early_blight', 'Tomato_Early_blight', 'Tomato_Early_blight', 'Tomato_Early_blight', 'Tomato_Early_blight', 'Tomato_Early_blight', 'Tomato_Early_blight', 'Tomato_Early_blight', 'Tomato_Early_blight', 'Tomato_Early_blight', 'Tomato_Early_blight', 'Tomato_Early_blight', 'Tomato_Early_blight', 'Tomato_Early_blight', 'Tomato_Early_blight', 'Tomato_Early_blight', 'Tomato_Early_blight', 'Tomato_Early_blight', 'Tomato_Early_blight', 'Tomato_Early_blight', 'Tomato_Early_blight', 'Tomato_Early_blight', 'Tomato_Early_blight', 'Tomato_Early_blight', 'Tomato_Early_blight', 'Tomato_Early_blight', 'Tomato_Early_blight', 'Tomato_Early_blight', 'Tomato_Early_blight', 'Tomato_Early_blight', 'Tomato_Early_blight', 'Tomato_Early_blight', 'Tomato_Early_blight', 'Tomato_Early_blight', 'Tomato_Early_blight', 'Tomato_Early_blight', 'Tomato_Early_blight', 'Tomato_Early_blight', 'Tomato_Early_blight', 'Tomato_Early_blight', 'Tomato_Early_blight', 'Tomato_Early_blight', 'Tomato_Early_blight', 'Tomato_Early_blight', 'Tomato_Early_blight', 'Tomato_Early_blight', 'Tomato_Early_blight', 'Tomato_Early_blight', 'Tomato_Early_blight', 'Tomato_Early_blight', 'Tomato_Early_blight', 'Tomato_Early_blight', 'Tomato_Early_blight', 'Tomato_Early_blight', 'Tomato_Early_blight', 'Tomato_Early_blight', 'Tomato_Early_blight', 'Tomato_Early_blight', 'Tomato_Early_blight', 'Tomato_Early_blight', 'Tomato_Early_blight', 'Tomato_Early_blight', 'Tomato_Early_blight', 'Tomato_Early_blight', 'Tomato_Early_blight', 'Tomato_Early_blight', 'Tomato_Early_blight', 'Tomato_Early_blight', 'Tomato_Early_blight', 'Tomato_Early_blight', 'Tomato_Early_blight', 'Tomato_Early_blight', 'Tomato_Early_blight', 'Tomato_Early_blight', 'Tomato_Early_blight', 'Tomato_Early_blight', 'Tomato_Early_blight', 'Tomato_Early_blight', 'Tomato_Early_blight', 'Tomato_Early_blight', 'Tomato_Early_blight', 'Tomato_Early_blight', 'Tomato_Early_blight', 'Tomato_Early_blight', 'Tomato_Early_blight', 'Tomato_Early_blight', 'Tomato_Early_blight', 'Tomato_Early_blight', 'Tomato_Early_blight', 'Tomato_Early_blight', 'Tomato_Early_blight', 'Tomato_Early_blight', 'Tomato_Early_blight', 'Tomato_Early_blight', 'Tomato_Early_blight', 'Tomato_Early_blight', 'Tomato_Early_blight', 'Tomato_Early_blight', 'Tomato_Early_blight', 'Tomato_Early_blight', 'Tomato_Early_blight', 'Tomato_Early_blight', 'Tomato_Early_blight', 'Tomato_Early_blight', 'Tomato_Early_blight', 'Tomato_Early_blight', 'Tomato_Early_blight', 'Tomato_Early_blight', 'Tomato_Early_blight', 'Tomato_Early_blight', 'Tomato_Early_blight', 'Tomato_Early_blight', 'Tomato_Early_blight', 'Tomato_Early_blight', 'Tomato_Early_blight', 'Tomato_Early_blight', 'Tomato_Early_blight', 'Tomato_Early_blight', 'Tomato_Early_blight', 'Tomato_Early_blight', 'Tomato_Early_blight', 'Tomato_Early_blight', 'Tomato_Early_blight', 'Tomato_Early_blight', 'Tomato_Early_blight', 'Tomato_Early_blight', 'Tomato_Early_blight', 'Tomato_Early_blight', 'Tomato_Early_blight', 'Tomato_Early_blight', 'Tomato_Early_blight', 'Tomato_Early_blight', 'Tomato_Early_blight', 'Tomato_Early_blight', 'Tomato_Early_blight', 'Tomato_Early_blight', 'Tomato_Early_blight', 'Tomato_Early_blight', 'Tomato_Early_blight', 'Tomato_Early_blight', 'Tomato_Early_blight', 'Tomato_Early_blight', 'Tomato_Early_blight', 'Tomato_Early_blight', 'Tomato_Early_blight', 'Tomato_Early_blight', 'Tomato_Early_blight', 'Tomato_Early_blight', 'Tomato_Early_blight', 'Tomato_Early_blight', 'Tomato_Early_blight', 'Tomato_Early_blight', 'Tomato_Early_blight', 'Tomato_Early_blight', 'Tomato_Early_blight', 'Tomato_Early_blight', 'Tomato_Early_blight', 'Tomato_Early_blight', 'Tomato_Early_blight', 'Tomato_Early_blight', 'Tomato_Early_blight', 'Tomato_Early_blight', 'Tomato_Early_blight', 'Tomato_Early_blight', 'Tomato_Early_blight', 'Tomato_Early_blight', 'Tomato_Early_blight', 'Tomato_Early_blight', 'Tomato_Early_blight', 'Tomato_Early_blight', 'Tomato_Early_blight', 'Tomato_Early_blight', 'Tomato_Early_blight', 'Tomato_Early_blight', 'Tomato_Early_blight', 'Tomato_Early_blight', 'Tomato_Early_blight', 'Tomato_Early_blight', 'Tomato_Early_blight', 'Tomato_Early_blight', 'Tomato_Early_blight', 'Tomato_Early_blight', 'Tomato_Early_blight', 'Tomato_Early_blight', 'Tomato_Early_blight', 'Tomato_Early_blight', 'Tomato_Early_blight', 'Tomato_Early_blight', 'Tomato_Early_blight', 'Tomato_Early_blight', 'Tomato_Early_blight', 'Tomato_Early_blight', 'Tomato_Early_blight', 'Tomato_Early_blight', 'Tomato_Early_blight', 'Tomato_Early_blight', 'Tomato_Early_blight', 'Tomato_Early_blight', 'Tomato_Late_blight', 'Tomato_Late_blight', 'Tomato_Late_blight', 'Tomato_Late_blight', 'Tomato_Late_blight', 'Tomato_Late_blight', 'Tomato_Late_blight', 'Tomato_Late_blight', 'Tomato_Late_blight', 'Tomato_Late_blight', 'Tomato_Late_blight', 'Tomato_Late_blight', 'Tomato_Late_blight', 'Tomato_Late_blight', 'Tomato_Late_blight', 'Tomato_Late_blight', 'Tomato_Late_blight', 'Tomato_Late_blight', 'Tomato_Late_blight', 'Tomato_Late_blight', 'Tomato_Late_blight', 'Tomato_Late_blight', 'Tomato_Late_blight', 'Tomato_Late_blight', 'Tomato_Late_blight', 'Tomato_Late_blight', 'Tomato_Late_blight', 'Tomato_Late_blight', 'Tomato_Late_blight', 'Tomato_Late_blight', 'Tomato_Late_blight', 'Tomato_Late_blight', 'Tomato_Late_blight', 'Tomato_Late_blight', 'Tomato_Late_blight', 'Tomato_Late_blight', 'Tomato_Late_blight', 'Tomato_Late_blight', 'Tomato_Late_blight', 'Tomato_Late_blight', 'Tomato_Late_blight', 'Tomato_Late_blight', 'Tomato_Late_blight', 'Tomato_Late_blight', 'Tomato_Late_blight', 'Tomato_Late_blight', 'Tomato_Late_blight', 'Tomato_Late_blight', 'Tomato_Late_blight', 'Tomato_Late_blight', 'Tomato_Late_blight', 'Tomato_Late_blight', 'Tomato_Late_blight', 'Tomato_Late_blight', 'Tomato_Late_blight', 'Tomato_Late_blight', 'Tomato_Late_blight', 'Tomato_Late_blight', 'Tomato_Late_blight', 'Tomato_Late_blight', 'Tomato_Late_blight', 'Tomato_Late_blight', 'Tomato_Late_blight', 'Tomato_Late_blight', 'Tomato_Late_blight', 'Tomato_Late_blight', 'Tomato_Late_blight', 'Tomato_Late_blight', 'Tomato_Late_blight', 'Tomato_Late_blight', 'Tomato_Late_blight', 'Tomato_Late_blight', 'Tomato_Late_blight', 'Tomato_Late_blight', 'Tomato_Late_blight', 'Tomato_Late_blight', 'Tomato_Late_blight', 'Tomato_Late_blight', 'Tomato_Late_blight', 'Tomato_Late_blight', 'Tomato_Late_blight', 'Tomato_Late_blight', 'Tomato_Late_blight', 'Tomato_Late_blight', 'Tomato_Late_blight', 'Tomato_Late_blight', 'Tomato_Late_blight', 'Tomato_Late_blight', 'Tomato_Late_blight', 'Tomato_Late_blight', 'Tomato_Late_blight', 'Tomato_Late_blight', 'Tomato_Late_blight', 'Tomato_Late_blight', 'Tomato_Late_blight', 'Tomato_Late_blight', 'Tomato_Late_blight', 'Tomato_Late_blight', 'Tomato_Late_blight', 'Tomato_Late_blight', 'Tomato_Late_blight', 'Tomato_Late_blight', 'Tomato_Late_blight', 'Tomato_Late_blight', 'Tomato_Late_blight', 'Tomato_Late_blight', 'Tomato_Late_blight', 'Tomato_Late_blight', 'Tomato_Late_blight', 'Tomato_Late_blight', 'Tomato_Late_blight', 'Tomato_Late_blight', 'Tomato_Late_blight', 'Tomato_Late_blight', 'Tomato_Late_blight', 'Tomato_Late_blight', 'Tomato_Late_blight', 'Tomato_Late_blight', 'Tomato_Late_blight', 'Tomato_Late_blight', 'Tomato_Late_blight', 'Tomato_Late_blight', 'Tomato_Late_blight', 'Tomato_Late_blight', 'Tomato_Late_blight', 'Tomato_Late_blight', 'Tomato_Late_blight', 'Tomato_Late_blight', 'Tomato_Late_blight', 'Tomato_Late_blight', 'Tomato_Late_blight', 'Tomato_Late_blight', 'Tomato_Late_blight', 'Tomato_Late_blight', 'Tomato_Late_blight', 'Tomato_Late_blight', 'Tomato_Late_blight', 'Tomato_Late_blight', 'Tomato_Late_blight', 'Tomato_Late_blight', 'Tomato_Late_blight', 'Tomato_Late_blight', 'Tomato_Late_blight', 'Tomato_Late_blight', 'Tomato_Late_blight', 'Tomato_Late_blight', 'Tomato_Late_blight', 'Tomato_Late_blight', 'Tomato_Late_blight', 'Tomato_Late_blight', 'Tomato_Late_blight', 'Tomato_Late_blight', 'Tomato_Late_blight', 'Tomato_Late_blight', 'Tomato_Late_blight', 'Tomato_Late_blight', 'Tomato_Late_blight', 'Tomato_Late_blight', 'Tomato_Late_blight', 'Tomato_Late_blight', 'Tomato_Late_blight', 'Tomato_Late_blight', 'Tomato_Late_blight', 'Tomato_Late_blight', 'Tomato_Late_blight', 'Tomato_Late_blight', 'Tomato_Late_blight', 'Tomato_Late_blight', 'Tomato_Late_blight', 'Tomato_Late_blight', 'Tomato_Late_blight', 'Tomato_Late_blight', 'Tomato_Late_blight', 'Tomato_Late_blight', 'Tomato_Late_blight', 'Tomato_Late_blight', 'Tomato_Late_blight', 'Tomato_Late_blight', 'Tomato_Late_blight', 'Tomato_Late_blight', 'Tomato_Late_blight', 'Tomato_Late_blight', 'Tomato_Late_blight', 'Tomato_Late_blight', 'Tomato_Late_blight', 'Tomato_Late_blight', 'Tomato_Late_blight', 'Tomato_Late_blight', 'Tomato_Late_blight', 'Tomato_Late_blight', 'Tomato_Late_blight', 'Tomato_Late_blight', 'Tomato_Late_blight', 'Tomato_Late_blight', 'Tomato_Late_blight', 'Tomato_Late_blight', 'Tomato_Late_blight', 'Tomato_Late_blight', 'Tomato_Late_blight', 'Tomato_Late_blight', 'Tomato_Leaf_Mold', 'Tomato_Leaf_Mold', 'Tomato_Leaf_Mold', 'Tomato_Leaf_Mold', 'Tomato_Leaf_Mold', 'Tomato_Leaf_Mold', 'Tomato_Leaf_Mold', 'Tomato_Leaf_Mold', 'Tomato_Leaf_Mold', 'Tomato_Leaf_Mold', 'Tomato_Leaf_Mold', 'Tomato_Leaf_Mold', 'Tomato_Leaf_Mold', 'Tomato_Leaf_Mold', 'Tomato_Leaf_Mold', 'Tomato_Leaf_Mold', 'Tomato_Leaf_Mold', 'Tomato_Leaf_Mold', 'Tomato_Leaf_Mold', 'Tomato_Leaf_Mold', 'Tomato_Leaf_Mold', 'Tomato_Leaf_Mold', 'Tomato_Leaf_Mold', 'Tomato_Leaf_Mold', 'Tomato_Leaf_Mold', 'Tomato_Leaf_Mold', 'Tomato_Leaf_Mold', 'Tomato_Leaf_Mold', 'Tomato_Leaf_Mold', 'Tomato_Leaf_Mold', 'Tomato_Leaf_Mold', 'Tomato_Leaf_Mold', 'Tomato_Leaf_Mold', 'Tomato_Leaf_Mold', 'Tomato_Leaf_Mold', 'Tomato_Leaf_Mold', 'Tomato_Leaf_Mold', 'Tomato_Leaf_Mold', 'Tomato_Leaf_Mold', 'Tomato_Leaf_Mold', 'Tomato_Leaf_Mold', 'Tomato_Leaf_Mold', 'Tomato_Leaf_Mold', 'Tomato_Leaf_Mold', 'Tomato_Leaf_Mold', 'Tomato_Leaf_Mold', 'Tomato_Leaf_Mold', 'Tomato_Leaf_Mold', 'Tomato_Leaf_Mold', 'Tomato_Leaf_Mold', 'Tomato_Leaf_Mold', 'Tomato_Leaf_Mold', 'Tomato_Leaf_Mold', 'Tomato_Leaf_Mold', 'Tomato_Leaf_Mold', 'Tomato_Leaf_Mold', 'Tomato_Leaf_Mold', 'Tomato_Leaf_Mold', 'Tomato_Leaf_Mold', 'Tomato_Leaf_Mold', 'Tomato_Leaf_Mold', 'Tomato_Leaf_Mold', 'Tomato_Leaf_Mold', 'Tomato_Leaf_Mold', 'Tomato_Leaf_Mold', 'Tomato_Leaf_Mold', 'Tomato_Leaf_Mold', 'Tomato_Leaf_Mold', 'Tomato_Leaf_Mold', 'Tomato_Leaf_Mold', 'Tomato_Leaf_Mold', 'Tomato_Leaf_Mold', 'Tomato_Leaf_Mold', 'Tomato_Leaf_Mold', 'Tomato_Leaf_Mold', 'Tomato_Leaf_Mold', 'Tomato_Leaf_Mold', 'Tomato_Leaf_Mold', 'Tomato_Leaf_Mold', 'Tomato_Leaf_Mold', 'Tomato_Leaf_Mold', 'Tomato_Leaf_Mold', 'Tomato_Leaf_Mold', 'Tomato_Leaf_Mold', 'Tomato_Leaf_Mold', 'Tomato_Leaf_Mold', 'Tomato_Leaf_Mold', 'Tomato_Leaf_Mold', 'Tomato_Leaf_Mold', 'Tomato_Leaf_Mold', 'Tomato_Leaf_Mold', 'Tomato_Leaf_Mold', 'Tomato_Leaf_Mold', 'Tomato_Leaf_Mold', 'Tomato_Leaf_Mold', 'Tomato_Leaf_Mold', 'Tomato_Leaf_Mold', 'Tomato_Leaf_Mold', 'Tomato_Leaf_Mold', 'Tomato_Leaf_Mold', 'Tomato_Leaf_Mold', 'Tomato_Leaf_Mold', 'Tomato_Leaf_Mold', 'Tomato_Leaf_Mold', 'Tomato_Leaf_Mold', 'Tomato_Leaf_Mold', 'Tomato_Leaf_Mold', 'Tomato_Leaf_Mold', 'Tomato_Leaf_Mold', 'Tomato_Leaf_Mold', 'Tomato_Leaf_Mold', 'Tomato_Leaf_Mold', 'Tomato_Leaf_Mold', 'Tomato_Leaf_Mold', 'Tomato_Leaf_Mold', 'Tomato_Leaf_Mold', 'Tomato_Leaf_Mold', 'Tomato_Leaf_Mold', 'Tomato_Leaf_Mold', 'Tomato_Leaf_Mold', 'Tomato_Leaf_Mold', 'Tomato_Leaf_Mold', 'Tomato_Leaf_Mold', 'Tomato_Leaf_Mold', 'Tomato_Leaf_Mold', 'Tomato_Leaf_Mold', 'Tomato_Leaf_Mold', 'Tomato_Leaf_Mold', 'Tomato_Leaf_Mold', 'Tomato_Leaf_Mold', 'Tomato_Leaf_Mold', 'Tomato_Leaf_Mold', 'Tomato_Leaf_Mold', 'Tomato_Leaf_Mold', 'Tomato_Leaf_Mold', 'Tomato_Leaf_Mold', 'Tomato_Leaf_Mold', 'Tomato_Leaf_Mold', 'Tomato_Leaf_Mold', 'Tomato_Leaf_Mold', 'Tomato_Leaf_Mold', 'Tomato_Leaf_Mold', 'Tomato_Leaf_Mold', 'Tomato_Leaf_Mold', 'Tomato_Leaf_Mold', 'Tomato_Leaf_Mold', 'Tomato_Leaf_Mold', 'Tomato_Leaf_Mold', 'Tomato_Leaf_Mold', 'Tomato_Leaf_Mold', 'Tomato_Leaf_Mold', 'Tomato_Leaf_Mold', 'Tomato_Leaf_Mold', 'Tomato_Leaf_Mold', 'Tomato_Leaf_Mold', 'Tomato_Leaf_Mold', 'Tomato_Leaf_Mold', 'Tomato_Leaf_Mold', 'Tomato_Leaf_Mold', 'Tomato_Leaf_Mold', 'Tomato_Leaf_Mold', 'Tomato_Leaf_Mold', 'Tomato_Leaf_Mold', 'Tomato_Leaf_Mold', 'Tomato_Leaf_Mold', 'Tomato_Leaf_Mold', 'Tomato_Leaf_Mold', 'Tomato_Leaf_Mold', 'Tomato_Leaf_Mold', 'Tomato_Leaf_Mold', 'Tomato_Leaf_Mold', 'Tomato_Leaf_Mold', 'Tomato_Leaf_Mold', 'Tomato_Leaf_Mold', 'Tomato_Leaf_Mold', 'Tomato_Leaf_Mold', 'Tomato_Leaf_Mold', 'Tomato_Leaf_Mold', 'Tomato_Leaf_Mold', 'Tomato_Leaf_Mold', 'Tomato_Leaf_Mold', 'Tomato_Leaf_Mold', 'Tomato_Leaf_Mold', 'Tomato_Leaf_Mold', 'Tomato_Leaf_Mold', 'Tomato_Leaf_Mold', 'Tomato_Leaf_Mold', 'Tomato_Leaf_Mold', 'Tomato_Leaf_Mold', 'Tomato_Leaf_Mold', 'Tomato_Leaf_Mold', 'Tomato_Leaf_Mold', 'Tomato_Leaf_Mold', 'Tomato_Leaf_Mold', 'Tomato_Leaf_Mold', 'Tomato_Leaf_Mold', 'Tomato_Leaf_Mold', 'Tomato_Leaf_Mold', 'Tomato_Leaf_Mold', 'Tomato_Leaf_Mold', 'Tomato_Septoria_leaf_spot', 'Tomato_Septoria_leaf_spot', 'Tomato_Septoria_leaf_spot', 'Tomato_Septoria_leaf_spot', 'Tomato_Septoria_leaf_spot', 'Tomato_Septoria_leaf_spot', 'Tomato_Septoria_leaf_spot', 'Tomato_Septoria_leaf_spot', 'Tomato_Septoria_leaf_spot', 'Tomato_Septoria_leaf_spot', 'Tomato_Septoria_leaf_spot', 'Tomato_Septoria_leaf_spot', 'Tomato_Septoria_leaf_spot', 'Tomato_Septoria_leaf_spot', 'Tomato_Septoria_leaf_spot', 'Tomato_Septoria_leaf_spot', 'Tomato_Septoria_leaf_spot', 'Tomato_Septoria_leaf_spot', 'Tomato_Septoria_leaf_spot', 'Tomato_Septoria_leaf_spot', 'Tomato_Septoria_leaf_spot', 'Tomato_Septoria_leaf_spot', 'Tomato_Septoria_leaf_spot', 'Tomato_Septoria_leaf_spot', 'Tomato_Septoria_leaf_spot', 'Tomato_Septoria_leaf_spot', 'Tomato_Septoria_leaf_spot', 'Tomato_Septoria_leaf_spot', 'Tomato_Septoria_leaf_spot', 'Tomato_Septoria_leaf_spot', 'Tomato_Septoria_leaf_spot', 'Tomato_Septoria_leaf_spot', 'Tomato_Septoria_leaf_spot', 'Tomato_Septoria_leaf_spot', 'Tomato_Septoria_leaf_spot', 'Tomato_Septoria_leaf_spot', 'Tomato_Septoria_leaf_spot', 'Tomato_Septoria_leaf_spot', 'Tomato_Septoria_leaf_spot', 'Tomato_Septoria_leaf_spot', 'Tomato_Septoria_leaf_spot', 'Tomato_Septoria_leaf_spot', 'Tomato_Septoria_leaf_spot', 'Tomato_Septoria_leaf_spot', 'Tomato_Septoria_leaf_spot', 'Tomato_Septoria_leaf_spot', 'Tomato_Septoria_leaf_spot', 'Tomato_Septoria_leaf_spot', 'Tomato_Septoria_leaf_spot', 'Tomato_Septoria_leaf_spot', 'Tomato_Septoria_leaf_spot', 'Tomato_Septoria_leaf_spot', 'Tomato_Septoria_leaf_spot', 'Tomato_Septoria_leaf_spot', 'Tomato_Septoria_leaf_spot', 'Tomato_Septoria_leaf_spot', 'Tomato_Septoria_leaf_spot', 'Tomato_Septoria_leaf_spot', 'Tomato_Septoria_leaf_spot', 'Tomato_Septoria_leaf_spot', 'Tomato_Septoria_leaf_spot', 'Tomato_Septoria_leaf_spot', 'Tomato_Septoria_leaf_spot', 'Tomato_Septoria_leaf_spot', 'Tomato_Septoria_leaf_spot', 'Tomato_Septoria_leaf_spot', 'Tomato_Septoria_leaf_spot', 'Tomato_Septoria_leaf_spot', 'Tomato_Septoria_leaf_spot', 'Tomato_Septoria_leaf_spot', 'Tomato_Septoria_leaf_spot', 'Tomato_Septoria_leaf_spot', 'Tomato_Septoria_leaf_spot', 'Tomato_Septoria_leaf_spot', 'Tomato_Septoria_leaf_spot', 'Tomato_Septoria_leaf_spot', 'Tomato_Septoria_leaf_spot', 'Tomato_Septoria_leaf_spot', 'Tomato_Septoria_leaf_spot', 'Tomato_Septoria_leaf_spot', 'Tomato_Septoria_leaf_spot', 'Tomato_Septoria_leaf_spot', 'Tomato_Septoria_leaf_spot', 'Tomato_Septoria_leaf_spot', 'Tomato_Septoria_leaf_spot', 'Tomato_Septoria_leaf_spot', 'Tomato_Septoria_leaf_spot', 'Tomato_Septoria_leaf_spot', 'Tomato_Septoria_leaf_spot', 'Tomato_Septoria_leaf_spot', 'Tomato_Septoria_leaf_spot', 'Tomato_Septoria_leaf_spot', 'Tomato_Septoria_leaf_spot', 'Tomato_Septoria_leaf_spot', 'Tomato_Septoria_leaf_spot', 'Tomato_Septoria_leaf_spot', 'Tomato_Septoria_leaf_spot', 'Tomato_Septoria_leaf_spot', 'Tomato_Septoria_leaf_spot', 'Tomato_Septoria_leaf_spot', 'Tomato_Septoria_leaf_spot', 'Tomato_Septoria_leaf_spot', 'Tomato_Septoria_leaf_spot', 'Tomato_Septoria_leaf_spot', 'Tomato_Septoria_leaf_spot', 'Tomato_Septoria_leaf_spot', 'Tomato_Septoria_leaf_spot', 'Tomato_Septoria_leaf_spot', 'Tomato_Septoria_leaf_spot', 'Tomato_Septoria_leaf_spot', 'Tomato_Septoria_leaf_spot', 'Tomato_Septoria_leaf_spot', 'Tomato_Septoria_leaf_spot', 'Tomato_Septoria_leaf_spot', 'Tomato_Septoria_leaf_spot', 'Tomato_Septoria_leaf_spot', 'Tomato_Septoria_leaf_spot', 'Tomato_Septoria_leaf_spot', 'Tomato_Septoria_leaf_spot', 'Tomato_Septoria_leaf_spot', 'Tomato_Septoria_leaf_spot', 'Tomato_Septoria_leaf_spot', 'Tomato_Septoria_leaf_spot', 'Tomato_Septoria_leaf_spot', 'Tomato_Septoria_leaf_spot', 'Tomato_Septoria_leaf_spot', 'Tomato_Septoria_leaf_spot', 'Tomato_Septoria_leaf_spot', 'Tomato_Septoria_leaf_spot', 'Tomato_Septoria_leaf_spot', 'Tomato_Septoria_leaf_spot', 'Tomato_Septoria_leaf_spot', 'Tomato_Septoria_leaf_spot', 'Tomato_Septoria_leaf_spot', 'Tomato_Septoria_leaf_spot', 'Tomato_Septoria_leaf_spot', 'Tomato_Septoria_leaf_spot', 'Tomato_Septoria_leaf_spot', 'Tomato_Septoria_leaf_spot', 'Tomato_Septoria_leaf_spot', 'Tomato_Septoria_leaf_spot', 'Tomato_Septoria_leaf_spot', 'Tomato_Septoria_leaf_spot', 'Tomato_Septoria_leaf_spot', 'Tomato_Septoria_leaf_spot', 'Tomato_Septoria_leaf_spot', 'Tomato_Septoria_leaf_spot', 'Tomato_Septoria_leaf_spot', 'Tomato_Septoria_leaf_spot', 'Tomato_Septoria_leaf_spot', 'Tomato_Septoria_leaf_spot', 'Tomato_Septoria_leaf_spot', 'Tomato_Septoria_leaf_spot', 'Tomato_Septoria_leaf_spot', 'Tomato_Septoria_leaf_spot', 'Tomato_Septoria_leaf_spot', 'Tomato_Septoria_leaf_spot', 'Tomato_Septoria_leaf_spot', 'Tomato_Septoria_leaf_spot', 'Tomato_Septoria_leaf_spot', 'Tomato_Septoria_leaf_spot', 'Tomato_Septoria_leaf_spot', 'Tomato_Septoria_leaf_spot', 'Tomato_Septoria_leaf_spot', 'Tomato_Septoria_leaf_spot', 'Tomato_Septoria_leaf_spot', 'Tomato_Septoria_leaf_spot', 'Tomato_Septoria_leaf_spot', 'Tomato_Septoria_leaf_spot', 'Tomato_Septoria_leaf_spot', 'Tomato_Septoria_leaf_spot', 'Tomato_Septoria_leaf_spot', 'Tomato_Septoria_leaf_spot', 'Tomato_Septoria_leaf_spot', 'Tomato_Septoria_leaf_spot', 'Tomato_Septoria_leaf_spot', 'Tomato_Septoria_leaf_spot', 'Tomato_Septoria_leaf_spot', 'Tomato_Septoria_leaf_spot', 'Tomato_Septoria_leaf_spot', 'Tomato_Septoria_leaf_spot', 'Tomato_Septoria_leaf_spot', 'Tomato_Septoria_leaf_spot', 'Tomato_Septoria_leaf_spot', 'Tomato_Septoria_leaf_spot', 'Tomato_Septoria_leaf_spot', 'Tomato_Septoria_leaf_spot', 'Tomato_Septoria_leaf_spot', 'Tomato_Septoria_leaf_spot', 'Tomato_Septoria_leaf_spot', 'Tomato_Septoria_leaf_spot', 'Tomato_Septoria_leaf_spot', 'Tomato_Septoria_leaf_spot', 'Tomato_Septoria_leaf_spot', 'Tomato_Septoria_leaf_spot', 'Tomato_Septoria_leaf_spot', 'Tomato_Septoria_leaf_spot', 'Tomato_Septoria_leaf_spot', 'Tomato_Septoria_leaf_spot', 'Tomato_Septoria_leaf_spot', 'Tomato_Spider_mites_Two_spotted_spider_mite', 'Tomato_Spider_mites_Two_spotted_spider_mite', 'Tomato_Spider_mites_Two_spotted_spider_mite', 'Tomato_Spider_mites_Two_spotted_spider_mite', 'Tomato_Spider_mites_Two_spotted_spider_mite', 'Tomato_Spider_mites_Two_spotted_spider_mite', 'Tomato_Spider_mites_Two_spotted_spider_mite', 'Tomato_Spider_mites_Two_spotted_spider_mite', 'Tomato_Spider_mites_Two_spotted_spider_mite', 'Tomato_Spider_mites_Two_spotted_spider_mite', 'Tomato_Spider_mites_Two_spotted_spider_mite', 'Tomato_Spider_mites_Two_spotted_spider_mite', 'Tomato_Spider_mites_Two_spotted_spider_mite', 'Tomato_Spider_mites_Two_spotted_spider_mite', 'Tomato_Spider_mites_Two_spotted_spider_mite', 'Tomato_Spider_mites_Two_spotted_spider_mite', 'Tomato_Spider_mites_Two_spotted_spider_mite', 'Tomato_Spider_mites_Two_spotted_spider_mite', 'Tomato_Spider_mites_Two_spotted_spider_mite', 'Tomato_Spider_mites_Two_spotted_spider_mite', 'Tomato_Spider_mites_Two_spotted_spider_mite', 'Tomato_Spider_mites_Two_spotted_spider_mite', 'Tomato_Spider_mites_Two_spotted_spider_mite', 'Tomato_Spider_mites_Two_spotted_spider_mite', 'Tomato_Spider_mites_Two_spotted_spider_mite', 'Tomato_Spider_mites_Two_spotted_spider_mite', 'Tomato_Spider_mites_Two_spotted_spider_mite', 'Tomato_Spider_mites_Two_spotted_spider_mite', 'Tomato_Spider_mites_Two_spotted_spider_mite', 'Tomato_Spider_mites_Two_spotted_spider_mite', 'Tomato_Spider_mites_Two_spotted_spider_mite', 'Tomato_Spider_mites_Two_spotted_spider_mite', 'Tomato_Spider_mites_Two_spotted_spider_mite', 'Tomato_Spider_mites_Two_spotted_spider_mite', 'Tomato_Spider_mites_Two_spotted_spider_mite', 'Tomato_Spider_mites_Two_spotted_spider_mite', 'Tomato_Spider_mites_Two_spotted_spider_mite', 'Tomato_Spider_mites_Two_spotted_spider_mite', 'Tomato_Spider_mites_Two_spotted_spider_mite', 'Tomato_Spider_mites_Two_spotted_spider_mite', 'Tomato_Spider_mites_Two_spotted_spider_mite', 'Tomato_Spider_mites_Two_spotted_spider_mite', 'Tomato_Spider_mites_Two_spotted_spider_mite', 'Tomato_Spider_mites_Two_spotted_spider_mite', 'Tomato_Spider_mites_Two_spotted_spider_mite', 'Tomato_Spider_mites_Two_spotted_spider_mite', 'Tomato_Spider_mites_Two_spotted_spider_mite', 'Tomato_Spider_mites_Two_spotted_spider_mite', 'Tomato_Spider_mites_Two_spotted_spider_mite', 'Tomato_Spider_mites_Two_spotted_spider_mite', 'Tomato_Spider_mites_Two_spotted_spider_mite', 'Tomato_Spider_mites_Two_spotted_spider_mite', 'Tomato_Spider_mites_Two_spotted_spider_mite', 'Tomato_Spider_mites_Two_spotted_spider_mite', 'Tomato_Spider_mites_Two_spotted_spider_mite', 'Tomato_Spider_mites_Two_spotted_spider_mite', 'Tomato_Spider_mites_Two_spotted_spider_mite', 'Tomato_Spider_mites_Two_spotted_spider_mite', 'Tomato_Spider_mites_Two_spotted_spider_mite', 'Tomato_Spider_mites_Two_spotted_spider_mite', 'Tomato_Spider_mites_Two_spotted_spider_mite', 'Tomato_Spider_mites_Two_spotted_spider_mite', 'Tomato_Spider_mites_Two_spotted_spider_mite', 'Tomato_Spider_mites_Two_spotted_spider_mite', 'Tomato_Spider_mites_Two_spotted_spider_mite', 'Tomato_Spider_mites_Two_spotted_spider_mite', 'Tomato_Spider_mites_Two_spotted_spider_mite', 'Tomato_Spider_mites_Two_spotted_spider_mite', 'Tomato_Spider_mites_Two_spotted_spider_mite', 'Tomato_Spider_mites_Two_spotted_spider_mite', 'Tomato_Spider_mites_Two_spotted_spider_mite', 'Tomato_Spider_mites_Two_spotted_spider_mite', 'Tomato_Spider_mites_Two_spotted_spider_mite', 'Tomato_Spider_mites_Two_spotted_spider_mite', 'Tomato_Spider_mites_Two_spotted_spider_mite', 'Tomato_Spider_mites_Two_spotted_spider_mite', 'Tomato_Spider_mites_Two_spotted_spider_mite', 'Tomato_Spider_mites_Two_spotted_spider_mite', 'Tomato_Spider_mites_Two_spotted_spider_mite', 'Tomato_Spider_mites_Two_spotted_spider_mite', 'Tomato_Spider_mites_Two_spotted_spider_mite', 'Tomato_Spider_mites_Two_spotted_spider_mite', 'Tomato_Spider_mites_Two_spotted_spider_mite', 'Tomato_Spider_mites_Two_spotted_spider_mite', 'Tomato_Spider_mites_Two_spotted_spider_mite', 'Tomato_Spider_mites_Two_spotted_spider_mite', 'Tomato_Spider_mites_Two_spotted_spider_mite', 'Tomato_Spider_mites_Two_spotted_spider_mite', 'Tomato_Spider_mites_Two_spotted_spider_mite', 'Tomato_Spider_mites_Two_spotted_spider_mite', 'Tomato_Spider_mites_Two_spotted_spider_mite', 'Tomato_Spider_mites_Two_spotted_spider_mite', 'Tomato_Spider_mites_Two_spotted_spider_mite', 'Tomato_Spider_mites_Two_spotted_spider_mite', 'Tomato_Spider_mites_Two_spotted_spider_mite', 'Tomato_Spider_mites_Two_spotted_spider_mite', 'Tomato_Spider_mites_Two_spotted_spider_mite', 'Tomato_Spider_mites_Two_spotted_spider_mite', 'Tomato_Spider_mites_Two_spotted_spider_mite', 'Tomato_Spider_mites_Two_spotted_spider_mite', 'Tomato_Spider_mites_Two_spotted_spider_mite', 'Tomato_Spider_mites_Two_spotted_spider_mite', 'Tomato_Spider_mites_Two_spotted_spider_mite', 'Tomato_Spider_mites_Two_spotted_spider_mite', 'Tomato_Spider_mites_Two_spotted_spider_mite', 'Tomato_Spider_mites_Two_spotted_spider_mite', 'Tomato_Spider_mites_Two_spotted_spider_mite', 'Tomato_Spider_mites_Two_spotted_spider_mite', 'Tomato_Spider_mites_Two_spotted_spider_mite', 'Tomato_Spider_mites_Two_spotted_spider_mite', 'Tomato_Spider_mites_Two_spotted_spider_mite', 'Tomato_Spider_mites_Two_spotted_spider_mite', 'Tomato_Spider_mites_Two_spotted_spider_mite', 'Tomato_Spider_mites_Two_spotted_spider_mite', 'Tomato_Spider_mites_Two_spotted_spider_mite', 'Tomato_Spider_mites_Two_spotted_spider_mite', 'Tomato_Spider_mites_Two_spotted_spider_mite', 'Tomato_Spider_mites_Two_spotted_spider_mite', 'Tomato_Spider_mites_Two_spotted_spider_mite', 'Tomato_Spider_mites_Two_spotted_spider_mite', 'Tomato_Spider_mites_Two_spotted_spider_mite', 'Tomato_Spider_mites_Two_spotted_spider_mite', 'Tomato_Spider_mites_Two_spotted_spider_mite', 'Tomato_Spider_mites_Two_spotted_spider_mite', 'Tomato_Spider_mites_Two_spotted_spider_mite', 'Tomato_Spider_mites_Two_spotted_spider_mite', 'Tomato_Spider_mites_Two_spotted_spider_mite', 'Tomato_Spider_mites_Two_spotted_spider_mite', 'Tomato_Spider_mites_Two_spotted_spider_mite', 'Tomato_Spider_mites_Two_spotted_spider_mite', 'Tomato_Spider_mites_Two_spotted_spider_mite', 'Tomato_Spider_mites_Two_spotted_spider_mite', 'Tomato_Spider_mites_Two_spotted_spider_mite', 'Tomato_Spider_mites_Two_spotted_spider_mite', 'Tomato_Spider_mites_Two_spotted_spider_mite', 'Tomato_Spider_mites_Two_spotted_spider_mite', 'Tomato_Spider_mites_Two_spotted_spider_mite', 'Tomato_Spider_mites_Two_spotted_spider_mite', 'Tomato_Spider_mites_Two_spotted_spider_mite', 'Tomato_Spider_mites_Two_spotted_spider_mite', 'Tomato_Spider_mites_Two_spotted_spider_mite', 'Tomato_Spider_mites_Two_spotted_spider_mite', 'Tomato_Spider_mites_Two_spotted_spider_mite', 'Tomato_Spider_mites_Two_spotted_spider_mite', 'Tomato_Spider_mites_Two_spotted_spider_mite', 'Tomato_Spider_mites_Two_spotted_spider_mite', 'Tomato_Spider_mites_Two_spotted_spider_mite', 'Tomato_Spider_mites_Two_spotted_spider_mite', 'Tomato_Spider_mites_Two_spotted_spider_mite', 'Tomato_Spider_mites_Two_spotted_spider_mite', 'Tomato_Spider_mites_Two_spotted_spider_mite', 'Tomato_Spider_mites_Two_spotted_spider_mite', 'Tomato_Spider_mites_Two_spotted_spider_mite', 'Tomato_Spider_mites_Two_spotted_spider_mite', 'Tomato_Spider_mites_Two_spotted_spider_mite', 'Tomato_Spider_mites_Two_spotted_spider_mite', 'Tomato_Spider_mites_Two_spotted_spider_mite', 'Tomato_Spider_mites_Two_spotted_spider_mite', 'Tomato_Spider_mites_Two_spotted_spider_mite', 'Tomato_Spider_mites_Two_spotted_spider_mite', 'Tomato_Spider_mites_Two_spotted_spider_mite', 'Tomato_Spider_mites_Two_spotted_spider_mite', 'Tomato_Spider_mites_Two_spotted_spider_mite', 'Tomato_Spider_mites_Two_spotted_spider_mite', 'Tomato_Spider_mites_Two_spotted_spider_mite', 'Tomato_Spider_mites_Two_spotted_spider_mite', 'Tomato_Spider_mites_Two_spotted_spider_mite', 'Tomato_Spider_mites_Two_spotted_spider_mite', 'Tomato_Spider_mites_Two_spotted_spider_mite', 'Tomato_Spider_mites_Two_spotted_spider_mite', 'Tomato_Spider_mites_Two_spotted_spider_mite', 'Tomato_Spider_mites_Two_spotted_spider_mite', 'Tomato_Spider_mites_Two_spotted_spider_mite', 'Tomato_Spider_mites_Two_spotted_spider_mite', 'Tomato_Spider_mites_Two_spotted_spider_mite', 'Tomato_Spider_mites_Two_spotted_spider_mite', 'Tomato_Spider_mites_Two_spotted_spider_mite', 'Tomato_Spider_mites_Two_spotted_spider_mite', 'Tomato_Spider_mites_Two_spotted_spider_mite', 'Tomato_Spider_mites_Two_spotted_spider_mite', 'Tomato_Spider_mites_Two_spotted_spider_mite', 'Tomato_Spider_mites_Two_spotted_spider_mite', 'Tomato_Spider_mites_Two_spotted_spider_mite', 'Tomato_Spider_mites_Two_spotted_spider_mite', 'Tomato_Spider_mites_Two_spotted_spider_mite', 'Tomato_Spider_mites_Two_spotted_spider_mite', 'Tomato_Spider_mites_Two_spotted_spider_mite', 'Tomato_Spider_mites_Two_spotted_spider_mite', 'Tomato_Spider_mites_Two_spotted_spider_mite', 'Tomato_Spider_mites_Two_spotted_spider_mite', 'Tomato_Spider_mites_Two_spotted_spider_mite', 'Tomato_Spider_mites_Two_spotted_spider_mite', 'Tomato_Spider_mites_Two_spotted_spider_mite', 'Tomato_Spider_mites_Two_spotted_spider_mite', 'Tomato_Spider_mites_Two_spotted_spider_mite', 'Tomato_Spider_mites_Two_spotted_spider_mite', 'Tomato_Spider_mites_Two_spotted_spider_mite', 'Tomato_Spider_mites_Two_spotted_spider_mite', 'Tomato_Spider_mites_Two_spotted_spider_mite', 'Tomato_Spider_mites_Two_spotted_spider_mite', 'Tomato__Target_Spot', 'Tomato__Target_Spot', 'Tomato__Target_Spot', 'Tomato__Target_Spot', 'Tomato__Target_Spot', 'Tomato__Target_Spot', 'Tomato__Target_Spot', 'Tomato__Target_Spot', 'Tomato__Target_Spot', 'Tomato__Target_Spot', 'Tomato__Target_Spot', 'Tomato__Target_Spot', 'Tomato__Target_Spot', 'Tomato__Target_Spot', 'Tomato__Target_Spot', 'Tomato__Target_Spot', 'Tomato__Target_Spot', 'Tomato__Target_Spot', 'Tomato__Target_Spot', 'Tomato__Target_Spot', 'Tomato__Target_Spot', 'Tomato__Target_Spot', 'Tomato__Target_Spot', 'Tomato__Target_Spot', 'Tomato__Target_Spot', 'Tomato__Target_Spot', 'Tomato__Target_Spot', 'Tomato__Target_Spot', 'Tomato__Target_Spot', 'Tomato__Target_Spot', 'Tomato__Target_Spot', 'Tomato__Target_Spot', 'Tomato__Target_Spot', 'Tomato__Target_Spot', 'Tomato__Target_Spot', 'Tomato__Target_Spot', 'Tomato__Target_Spot', 'Tomato__Target_Spot', 'Tomato__Target_Spot', 'Tomato__Target_Spot', 'Tomato__Target_Spot', 'Tomato__Target_Spot', 'Tomato__Target_Spot', 'Tomato__Target_Spot', 'Tomato__Target_Spot', 'Tomato__Target_Spot', 'Tomato__Target_Spot', 'Tomato__Target_Spot', 'Tomato__Target_Spot', 'Tomato__Target_Spot', 'Tomato__Target_Spot', 'Tomato__Target_Spot', 'Tomato__Target_Spot', 'Tomato__Target_Spot', 'Tomato__Target_Spot', 'Tomato__Target_Spot', 'Tomato__Target_Spot', 'Tomato__Target_Spot', 'Tomato__Target_Spot', 'Tomato__Target_Spot', 'Tomato__Target_Spot', 'Tomato__Target_Spot', 'Tomato__Target_Spot', 'Tomato__Target_Spot', 'Tomato__Target_Spot', 'Tomato__Target_Spot', 'Tomato__Target_Spot', 'Tomato__Target_Spot', 'Tomato__Target_Spot', 'Tomato__Target_Spot', 'Tomato__Target_Spot', 'Tomato__Target_Spot', 'Tomato__Target_Spot', 'Tomato__Target_Spot', 'Tomato__Target_Spot', 'Tomato__Target_Spot', 'Tomato__Target_Spot', 'Tomato__Target_Spot', 'Tomato__Target_Spot', 'Tomato__Target_Spot', 'Tomato__Target_Spot', 'Tomato__Target_Spot', 'Tomato__Target_Spot', 'Tomato__Target_Spot', 'Tomato__Target_Spot', 'Tomato__Target_Spot', 'Tomato__Target_Spot', 'Tomato__Target_Spot', 'Tomato__Target_Spot', 'Tomato__Target_Spot', 'Tomato__Target_Spot', 'Tomato__Target_Spot', 'Tomato__Target_Spot', 'Tomato__Target_Spot', 'Tomato__Target_Spot', 'Tomato__Target_Spot', 'Tomato__Target_Spot', 'Tomato__Target_Spot', 'Tomato__Target_Spot', 'Tomato__Target_Spot', 'Tomato__Target_Spot', 'Tomato__Target_Spot', 'Tomato__Target_Spot', 'Tomato__Target_Spot', 'Tomato__Target_Spot', 'Tomato__Target_Spot', 'Tomato__Target_Spot', 'Tomato__Target_Spot', 'Tomato__Target_Spot', 'Tomato__Target_Spot', 'Tomato__Target_Spot', 'Tomato__Target_Spot', 'Tomato__Target_Spot', 'Tomato__Target_Spot', 'Tomato__Target_Spot', 'Tomato__Target_Spot', 'Tomato__Target_Spot', 'Tomato__Target_Spot', 'Tomato__Target_Spot', 'Tomato__Target_Spot', 'Tomato__Target_Spot', 'Tomato__Target_Spot', 'Tomato__Target_Spot', 'Tomato__Target_Spot', 'Tomato__Target_Spot', 'Tomato__Target_Spot', 'Tomato__Target_Spot', 'Tomato__Target_Spot', 'Tomato__Target_Spot', 'Tomato__Target_Spot', 'Tomato__Target_Spot', 'Tomato__Target_Spot', 'Tomato__Target_Spot', 'Tomato__Target_Spot', 'Tomato__Target_Spot', 'Tomato__Target_Spot', 'Tomato__Target_Spot', 'Tomato__Target_Spot', 'Tomato__Target_Spot', 'Tomato__Target_Spot', 'Tomato__Target_Spot', 'Tomato__Target_Spot', 'Tomato__Target_Spot', 'Tomato__Target_Spot', 'Tomato__Target_Spot', 'Tomato__Target_Spot', 'Tomato__Target_Spot', 'Tomato__Target_Spot', 'Tomato__Target_Spot', 'Tomato__Target_Spot', 'Tomato__Target_Spot', 'Tomato__Target_Spot', 'Tomato__Target_Spot', 'Tomato__Target_Spot', 'Tomato__Target_Spot', 'Tomato__Target_Spot', 'Tomato__Target_Spot', 'Tomato__Target_Spot', 'Tomato__Target_Spot', 'Tomato__Target_Spot', 'Tomato__Target_Spot', 'Tomato__Target_Spot', 'Tomato__Target_Spot', 'Tomato__Target_Spot', 'Tomato__Target_Spot', 'Tomato__Target_Spot', 'Tomato__Target_Spot', 'Tomato__Target_Spot', 'Tomato__Target_Spot', 'Tomato__Target_Spot', 'Tomato__Target_Spot', 'Tomato__Target_Spot', 'Tomato__Target_Spot', 'Tomato__Target_Spot', 'Tomato__Target_Spot', 'Tomato__Target_Spot', 'Tomato__Target_Spot', 'Tomato__Target_Spot', 'Tomato__Target_Spot', 'Tomato__Target_Spot', 'Tomato__Target_Spot', 'Tomato__Target_Spot', 'Tomato__Target_Spot', 'Tomato__Target_Spot', 'Tomato__Target_Spot', 'Tomato__Target_Spot', 'Tomato__Target_Spot', 'Tomato__Target_Spot', 'Tomato__Target_Spot', 'Tomato__Target_Spot', 'Tomato__Target_Spot', 'Tomato__Target_Spot', 'Tomato__Target_Spot', 'Tomato__Target_Spot', 'Tomato__Target_Spot', 'Tomato__Target_Spot', 'Tomato__Target_Spot', 'Tomato__Target_Spot', 'Tomato__Target_Spot', 'Tomato__Target_Spot', 'Tomato__Tomato_YellowLeaf__Curl_Virus', 'Tomato__Tomato_YellowLeaf__Curl_Virus', 'Tomato__Tomato_YellowLeaf__Curl_Virus', 'Tomato__Tomato_YellowLeaf__Curl_Virus', 'Tomato__Tomato_YellowLeaf__Curl_Virus', 'Tomato__Tomato_YellowLeaf__Curl_Virus', 'Tomato__Tomato_YellowLeaf__Curl_Virus', 'Tomato__Tomato_YellowLeaf__Curl_Virus', 'Tomato__Tomato_YellowLeaf__Curl_Virus', 'Tomato__Tomato_YellowLeaf__Curl_Virus', 'Tomato__Tomato_YellowLeaf__Curl_Virus', 'Tomato__Tomato_YellowLeaf__Curl_Virus', 'Tomato__Tomato_YellowLeaf__Curl_Virus', 'Tomato__Tomato_YellowLeaf__Curl_Virus', 'Tomato__Tomato_YellowLeaf__Curl_Virus', 'Tomato__Tomato_YellowLeaf__Curl_Virus', 'Tomato__Tomato_YellowLeaf__Curl_Virus', 'Tomato__Tomato_YellowLeaf__Curl_Virus', 'Tomato__Tomato_YellowLeaf__Curl_Virus', 'Tomato__Tomato_YellowLeaf__Curl_Virus', 'Tomato__Tomato_YellowLeaf__Curl_Virus', 'Tomato__Tomato_YellowLeaf__Curl_Virus', 'Tomato__Tomato_YellowLeaf__Curl_Virus', 'Tomato__Tomato_YellowLeaf__Curl_Virus', 'Tomato__Tomato_YellowLeaf__Curl_Virus', 'Tomato__Tomato_YellowLeaf__Curl_Virus', 'Tomato__Tomato_YellowLeaf__Curl_Virus', 'Tomato__Tomato_YellowLeaf__Curl_Virus', 'Tomato__Tomato_YellowLeaf__Curl_Virus', 'Tomato__Tomato_YellowLeaf__Curl_Virus', 'Tomato__Tomato_YellowLeaf__Curl_Virus', 'Tomato__Tomato_YellowLeaf__Curl_Virus', 'Tomato__Tomato_YellowLeaf__Curl_Virus', 'Tomato__Tomato_YellowLeaf__Curl_Virus', 'Tomato__Tomato_YellowLeaf__Curl_Virus', 'Tomato__Tomato_YellowLeaf__Curl_Virus', 'Tomato__Tomato_YellowLeaf__Curl_Virus', 'Tomato__Tomato_YellowLeaf__Curl_Virus', 'Tomato__Tomato_YellowLeaf__Curl_Virus', 'Tomato__Tomato_YellowLeaf__Curl_Virus', 'Tomato__Tomato_YellowLeaf__Curl_Virus', 'Tomato__Tomato_YellowLeaf__Curl_Virus', 'Tomato__Tomato_YellowLeaf__Curl_Virus', 'Tomato__Tomato_YellowLeaf__Curl_Virus', 'Tomato__Tomato_YellowLeaf__Curl_Virus', 'Tomato__Tomato_YellowLeaf__Curl_Virus', 'Tomato__Tomato_YellowLeaf__Curl_Virus', 'Tomato__Tomato_YellowLeaf__Curl_Virus', 'Tomato__Tomato_YellowLeaf__Curl_Virus', 'Tomato__Tomato_YellowLeaf__Curl_Virus', 'Tomato__Tomato_YellowLeaf__Curl_Virus', 'Tomato__Tomato_YellowLeaf__Curl_Virus', 'Tomato__Tomato_YellowLeaf__Curl_Virus', 'Tomato__Tomato_YellowLeaf__Curl_Virus', 'Tomato__Tomato_YellowLeaf__Curl_Virus', 'Tomato__Tomato_YellowLeaf__Curl_Virus', 'Tomato__Tomato_YellowLeaf__Curl_Virus', 'Tomato__Tomato_YellowLeaf__Curl_Virus', 'Tomato__Tomato_YellowLeaf__Curl_Virus', 'Tomato__Tomato_YellowLeaf__Curl_Virus', 'Tomato__Tomato_YellowLeaf__Curl_Virus', 'Tomato__Tomato_YellowLeaf__Curl_Virus', 'Tomato__Tomato_YellowLeaf__Curl_Virus', 'Tomato__Tomato_YellowLeaf__Curl_Virus', 'Tomato__Tomato_YellowLeaf__Curl_Virus', 'Tomato__Tomato_YellowLeaf__Curl_Virus', 'Tomato__Tomato_YellowLeaf__Curl_Virus', 'Tomato__Tomato_YellowLeaf__Curl_Virus', 'Tomato__Tomato_YellowLeaf__Curl_Virus', 'Tomato__Tomato_YellowLeaf__Curl_Virus', 'Tomato__Tomato_YellowLeaf__Curl_Virus', 'Tomato__Tomato_YellowLeaf__Curl_Virus', 'Tomato__Tomato_YellowLeaf__Curl_Virus', 'Tomato__Tomato_YellowLeaf__Curl_Virus', 'Tomato__Tomato_YellowLeaf__Curl_Virus', 'Tomato__Tomato_YellowLeaf__Curl_Virus', 'Tomato__Tomato_YellowLeaf__Curl_Virus', 'Tomato__Tomato_YellowLeaf__Curl_Virus', 'Tomato__Tomato_YellowLeaf__Curl_Virus', 'Tomato__Tomato_YellowLeaf__Curl_Virus', 'Tomato__Tomato_YellowLeaf__Curl_Virus', 'Tomato__Tomato_YellowLeaf__Curl_Virus', 'Tomato__Tomato_YellowLeaf__Curl_Virus', 'Tomato__Tomato_YellowLeaf__Curl_Virus', 'Tomato__Tomato_YellowLeaf__Curl_Virus', 'Tomato__Tomato_YellowLeaf__Curl_Virus', 'Tomato__Tomato_YellowLeaf__Curl_Virus', 'Tomato__Tomato_YellowLeaf__Curl_Virus', 'Tomato__Tomato_YellowLeaf__Curl_Virus', 'Tomato__Tomato_YellowLeaf__Curl_Virus', 'Tomato__Tomato_YellowLeaf__Curl_Virus', 'Tomato__Tomato_YellowLeaf__Curl_Virus', 'Tomato__Tomato_YellowLeaf__Curl_Virus', 'Tomato__Tomato_YellowLeaf__Curl_Virus', 'Tomato__Tomato_YellowLeaf__Curl_Virus', 'Tomato__Tomato_YellowLeaf__Curl_Virus', 'Tomato__Tomato_YellowLeaf__Curl_Virus', 'Tomato__Tomato_YellowLeaf__Curl_Virus', 'Tomato__Tomato_YellowLeaf__Curl_Virus', 'Tomato__Tomato_YellowLeaf__Curl_Virus', 'Tomato__Tomato_YellowLeaf__Curl_Virus', 'Tomato__Tomato_YellowLeaf__Curl_Virus', 'Tomato__Tomato_YellowLeaf__Curl_Virus', 'Tomato__Tomato_YellowLeaf__Curl_Virus', 'Tomato__Tomato_YellowLeaf__Curl_Virus', 'Tomato__Tomato_YellowLeaf__Curl_Virus', 'Tomato__Tomato_YellowLeaf__Curl_Virus', 'Tomato__Tomato_YellowLeaf__Curl_Virus', 'Tomato__Tomato_YellowLeaf__Curl_Virus', 'Tomato__Tomato_YellowLeaf__Curl_Virus', 'Tomato__Tomato_YellowLeaf__Curl_Virus', 'Tomato__Tomato_YellowLeaf__Curl_Virus', 'Tomato__Tomato_YellowLeaf__Curl_Virus', 'Tomato__Tomato_YellowLeaf__Curl_Virus', 'Tomato__Tomato_YellowLeaf__Curl_Virus', 'Tomato__Tomato_YellowLeaf__Curl_Virus', 'Tomato__Tomato_YellowLeaf__Curl_Virus', 'Tomato__Tomato_YellowLeaf__Curl_Virus', 'Tomato__Tomato_YellowLeaf__Curl_Virus', 'Tomato__Tomato_YellowLeaf__Curl_Virus', 'Tomato__Tomato_YellowLeaf__Curl_Virus', 'Tomato__Tomato_YellowLeaf__Curl_Virus', 'Tomato__Tomato_YellowLeaf__Curl_Virus', 'Tomato__Tomato_YellowLeaf__Curl_Virus', 'Tomato__Tomato_YellowLeaf__Curl_Virus', 'Tomato__Tomato_YellowLeaf__Curl_Virus', 'Tomato__Tomato_YellowLeaf__Curl_Virus', 'Tomato__Tomato_YellowLeaf__Curl_Virus', 'Tomato__Tomato_YellowLeaf__Curl_Virus', 'Tomato__Tomato_YellowLeaf__Curl_Virus', 'Tomato__Tomato_YellowLeaf__Curl_Virus', 'Tomato__Tomato_YellowLeaf__Curl_Virus', 'Tomato__Tomato_YellowLeaf__Curl_Virus', 'Tomato__Tomato_YellowLeaf__Curl_Virus', 'Tomato__Tomato_YellowLeaf__Curl_Virus', 'Tomato__Tomato_YellowLeaf__Curl_Virus', 'Tomato__Tomato_YellowLeaf__Curl_Virus', 'Tomato__Tomato_YellowLeaf__Curl_Virus', 'Tomato__Tomato_YellowLeaf__Curl_Virus', 'Tomato__Tomato_YellowLeaf__Curl_Virus', 'Tomato__Tomato_YellowLeaf__Curl_Virus', 'Tomato__Tomato_YellowLeaf__Curl_Virus', 'Tomato__Tomato_YellowLeaf__Curl_Virus', 'Tomato__Tomato_YellowLeaf__Curl_Virus', 'Tomato__Tomato_YellowLeaf__Curl_Virus', 'Tomato__Tomato_YellowLeaf__Curl_Virus', 'Tomato__Tomato_YellowLeaf__Curl_Virus', 'Tomato__Tomato_YellowLeaf__Curl_Virus', 'Tomato__Tomato_YellowLeaf__Curl_Virus', 'Tomato__Tomato_YellowLeaf__Curl_Virus', 'Tomato__Tomato_YellowLeaf__Curl_Virus', 'Tomato__Tomato_YellowLeaf__Curl_Virus', 'Tomato__Tomato_YellowLeaf__Curl_Virus', 'Tomato__Tomato_YellowLeaf__Curl_Virus', 'Tomato__Tomato_YellowLeaf__Curl_Virus', 'Tomato__Tomato_YellowLeaf__Curl_Virus', 'Tomato__Tomato_YellowLeaf__Curl_Virus', 'Tomato__Tomato_YellowLeaf__Curl_Virus', 'Tomato__Tomato_YellowLeaf__Curl_Virus', 'Tomato__Tomato_YellowLeaf__Curl_Virus', 'Tomato__Tomato_YellowLeaf__Curl_Virus', 'Tomato__Tomato_YellowLeaf__Curl_Virus', 'Tomato__Tomato_YellowLeaf__Curl_Virus', 'Tomato__Tomato_YellowLeaf__Curl_Virus', 'Tomato__Tomato_YellowLeaf__Curl_Virus', 'Tomato__Tomato_YellowLeaf__Curl_Virus', 'Tomato__Tomato_YellowLeaf__Curl_Virus', 'Tomato__Tomato_YellowLeaf__Curl_Virus', 'Tomato__Tomato_YellowLeaf__Curl_Virus', 'Tomato__Tomato_YellowLeaf__Curl_Virus', 'Tomato__Tomato_YellowLeaf__Curl_Virus', 'Tomato__Tomato_YellowLeaf__Curl_Virus', 'Tomato__Tomato_YellowLeaf__Curl_Virus', 'Tomato__Tomato_YellowLeaf__Curl_Virus', 'Tomato__Tomato_YellowLeaf__Curl_Virus', 'Tomato__Tomato_YellowLeaf__Curl_Virus', 'Tomato__Tomato_YellowLeaf__Curl_Virus', 'Tomato__Tomato_YellowLeaf__Curl_Virus', 'Tomato__Tomato_YellowLeaf__Curl_Virus', 'Tomato__Tomato_YellowLeaf__Curl_Virus', 'Tomato__Tomato_YellowLeaf__Curl_Virus', 'Tomato__Tomato_YellowLeaf__Curl_Virus', 'Tomato__Tomato_YellowLeaf__Curl_Virus', 'Tomato__Tomato_YellowLeaf__Curl_Virus', 'Tomato__Tomato_YellowLeaf__Curl_Virus', 'Tomato__Tomato_YellowLeaf__Curl_Virus', 'Tomato__Tomato_YellowLeaf__Curl_Virus', 'Tomato__Tomato_YellowLeaf__Curl_Virus', 'Tomato__Tomato_YellowLeaf__Curl_Virus', 'Tomato__Tomato_YellowLeaf__Curl_Virus', 'Tomato__Tomato_YellowLeaf__Curl_Virus', 'Tomato__Tomato_YellowLeaf__Curl_Virus', 'Tomato__Tomato_YellowLeaf__Curl_Virus', 'Tomato__Tomato_YellowLeaf__Curl_Virus', 'Tomato__Tomato_YellowLeaf__Curl_Virus', 'Tomato__Tomato_YellowLeaf__Curl_Virus', 'Tomato__Tomato_YellowLeaf__Curl_Virus', 'Tomato__Tomato_YellowLeaf__Curl_Virus', 'Tomato__Tomato_YellowLeaf__Curl_Virus', 'Tomato__Tomato_YellowLeaf__Curl_Virus', 'Tomato__Tomato_mosaic_virus', 'Tomato__Tomato_mosaic_virus', 'Tomato__Tomato_mosaic_virus', 'Tomato__Tomato_mosaic_virus', 'Tomato__Tomato_mosaic_virus', 'Tomato__Tomato_mosaic_virus', 'Tomato__Tomato_mosaic_virus', 'Tomato__Tomato_mosaic_virus', 'Tomato__Tomato_mosaic_virus', 'Tomato__Tomato_mosaic_virus', 'Tomato__Tomato_mosaic_virus', 'Tomato__Tomato_mosaic_virus', 'Tomato__Tomato_mosaic_virus', 'Tomato__Tomato_mosaic_virus', 'Tomato__Tomato_mosaic_virus', 'Tomato__Tomato_mosaic_virus', 'Tomato__Tomato_mosaic_virus', 'Tomato__Tomato_mosaic_virus', 'Tomato__Tomato_mosaic_virus', 'Tomato__Tomato_mosaic_virus', 'Tomato__Tomato_mosaic_virus', 'Tomato__Tomato_mosaic_virus', 'Tomato__Tomato_mosaic_virus', 'Tomato__Tomato_mosaic_virus', 'Tomato__Tomato_mosaic_virus', 'Tomato__Tomato_mosaic_virus', 'Tomato__Tomato_mosaic_virus', 'Tomato__Tomato_mosaic_virus', 'Tomato__Tomato_mosaic_virus', 'Tomato__Tomato_mosaic_virus', 'Tomato__Tomato_mosaic_virus', 'Tomato__Tomato_mosaic_virus', 'Tomato__Tomato_mosaic_virus', 'Tomato__Tomato_mosaic_virus', 'Tomato__Tomato_mosaic_virus', 'Tomato__Tomato_mosaic_virus', 'Tomato__Tomato_mosaic_virus', 'Tomato__Tomato_mosaic_virus', 'Tomato__Tomato_mosaic_virus', 'Tomato__Tomato_mosaic_virus', 'Tomato__Tomato_mosaic_virus', 'Tomato__Tomato_mosaic_virus', 'Tomato__Tomato_mosaic_virus', 'Tomato__Tomato_mosaic_virus', 'Tomato__Tomato_mosaic_virus', 'Tomato__Tomato_mosaic_virus', 'Tomato__Tomato_mosaic_virus', 'Tomato__Tomato_mosaic_virus', 'Tomato__Tomato_mosaic_virus', 'Tomato__Tomato_mosaic_virus', 'Tomato__Tomato_mosaic_virus', 'Tomato__Tomato_mosaic_virus', 'Tomato__Tomato_mosaic_virus', 'Tomato__Tomato_mosaic_virus', 'Tomato__Tomato_mosaic_virus', 'Tomato__Tomato_mosaic_virus', 'Tomato__Tomato_mosaic_virus', 'Tomato__Tomato_mosaic_virus', 'Tomato__Tomato_mosaic_virus', 'Tomato__Tomato_mosaic_virus', 'Tomato__Tomato_mosaic_virus', 'Tomato__Tomato_mosaic_virus', 'Tomato__Tomato_mosaic_virus', 'Tomato__Tomato_mosaic_virus', 'Tomato__Tomato_mosaic_virus', 'Tomato__Tomato_mosaic_virus', 'Tomato__Tomato_mosaic_virus', 'Tomato__Tomato_mosaic_virus', 'Tomato__Tomato_mosaic_virus', 'Tomato__Tomato_mosaic_virus', 'Tomato__Tomato_mosaic_virus', 'Tomato__Tomato_mosaic_virus', 'Tomato__Tomato_mosaic_virus', 'Tomato__Tomato_mosaic_virus', 'Tomato__Tomato_mosaic_virus', 'Tomato__Tomato_mosaic_virus', 'Tomato__Tomato_mosaic_virus', 'Tomato__Tomato_mosaic_virus', 'Tomato__Tomato_mosaic_virus', 'Tomato__Tomato_mosaic_virus', 'Tomato__Tomato_mosaic_virus', 'Tomato__Tomato_mosaic_virus', 'Tomato__Tomato_mosaic_virus', 'Tomato__Tomato_mosaic_virus', 'Tomato__Tomato_mosaic_virus', 'Tomato__Tomato_mosaic_virus', 'Tomato__Tomato_mosaic_virus', 'Tomato__Tomato_mosaic_virus', 'Tomato__Tomato_mosaic_virus', 'Tomato__Tomato_mosaic_virus', 'Tomato__Tomato_mosaic_virus', 'Tomato__Tomato_mosaic_virus', 'Tomato__Tomato_mosaic_virus', 'Tomato__Tomato_mosaic_virus', 'Tomato__Tomato_mosaic_virus', 'Tomato__Tomato_mosaic_virus', 'Tomato__Tomato_mosaic_virus', 'Tomato__Tomato_mosaic_virus', 'Tomato__Tomato_mosaic_virus', 'Tomato__Tomato_mosaic_virus', 'Tomato__Tomato_mosaic_virus', 'Tomato__Tomato_mosaic_virus', 'Tomato__Tomato_mosaic_virus', 'Tomato__Tomato_mosaic_virus', 'Tomato__Tomato_mosaic_virus', 'Tomato__Tomato_mosaic_virus', 'Tomato__Tomato_mosaic_virus', 'Tomato__Tomato_mosaic_virus', 'Tomato__Tomato_mosaic_virus', 'Tomato__Tomato_mosaic_virus', 'Tomato__Tomato_mosaic_virus', 'Tomato__Tomato_mosaic_virus', 'Tomato__Tomato_mosaic_virus', 'Tomato__Tomato_mosaic_virus', 'Tomato__Tomato_mosaic_virus', 'Tomato__Tomato_mosaic_virus', 'Tomato__Tomato_mosaic_virus', 'Tomato__Tomato_mosaic_virus', 'Tomato__Tomato_mosaic_virus', 'Tomato__Tomato_mosaic_virus', 'Tomato__Tomato_mosaic_virus', 'Tomato__Tomato_mosaic_virus', 'Tomato__Tomato_mosaic_virus', 'Tomato__Tomato_mosaic_virus', 'Tomato__Tomato_mosaic_virus', 'Tomato__Tomato_mosaic_virus', 'Tomato__Tomato_mosaic_virus', 'Tomato__Tomato_mosaic_virus', 'Tomato__Tomato_mosaic_virus', 'Tomato__Tomato_mosaic_virus', 'Tomato__Tomato_mosaic_virus', 'Tomato__Tomato_mosaic_virus', 'Tomato__Tomato_mosaic_virus', 'Tomato__Tomato_mosaic_virus', 'Tomato__Tomato_mosaic_virus', 'Tomato__Tomato_mosaic_virus', 'Tomato__Tomato_mosaic_virus', 'Tomato__Tomato_mosaic_virus', 'Tomato__Tomato_mosaic_virus', 'Tomato__Tomato_mosaic_virus', 'Tomato__Tomato_mosaic_virus', 'Tomato__Tomato_mosaic_virus', 'Tomato__Tomato_mosaic_virus', 'Tomato__Tomato_mosaic_virus', 'Tomato__Tomato_mosaic_virus', 'Tomato__Tomato_mosaic_virus', 'Tomato__Tomato_mosaic_virus', 'Tomato__Tomato_mosaic_virus', 'Tomato__Tomato_mosaic_virus', 'Tomato__Tomato_mosaic_virus', 'Tomato__Tomato_mosaic_virus', 'Tomato__Tomato_mosaic_virus', 'Tomato__Tomato_mosaic_virus', 'Tomato__Tomato_mosaic_virus', 'Tomato__Tomato_mosaic_virus', 'Tomato__Tomato_mosaic_virus', 'Tomato__Tomato_mosaic_virus', 'Tomato__Tomato_mosaic_virus', 'Tomato__Tomato_mosaic_virus', 'Tomato__Tomato_mosaic_virus', 'Tomato__Tomato_mosaic_virus', 'Tomato__Tomato_mosaic_virus', 'Tomato__Tomato_mosaic_virus', 'Tomato__Tomato_mosaic_virus', 'Tomato__Tomato_mosaic_virus', 'Tomato__Tomato_mosaic_virus', 'Tomato__Tomato_mosaic_virus', 'Tomato__Tomato_mosaic_virus', 'Tomato__Tomato_mosaic_virus', 'Tomato__Tomato_mosaic_virus', 'Tomato__Tomato_mosaic_virus', 'Tomato__Tomato_mosaic_virus', 'Tomato__Tomato_mosaic_virus', 'Tomato__Tomato_mosaic_virus', 'Tomato__Tomato_mosaic_virus', 'Tomato__Tomato_mosaic_virus', 'Tomato__Tomato_mosaic_virus', 'Tomato__Tomato_mosaic_virus', 'Tomato__Tomato_mosaic_virus', 'Tomato__Tomato_mosaic_virus', 'Tomato__Tomato_mosaic_virus', 'Tomato__Tomato_mosaic_virus', 'Tomato__Tomato_mosaic_virus', 'Tomato__Tomato_mosaic_virus', 'Tomato__Tomato_mosaic_virus', 'Tomato__Tomato_mosaic_virus', 'Tomato__Tomato_mosaic_virus', 'Tomato__Tomato_mosaic_virus', 'Tomato__Tomato_mosaic_virus', 'Tomato__Tomato_mosaic_virus', 'Tomato__Tomato_mosaic_virus', 'Tomato__Tomato_mosaic_virus', 'Tomato__Tomato_mosaic_virus', 'Tomato__Tomato_mosaic_virus', 'Tomato__Tomato_mosaic_virus', 'Tomato__Tomato_mosaic_virus', 'Tomato__Tomato_mosaic_virus', 'Tomato__Tomato_mosaic_virus', 'Tomato__Tomato_mosaic_virus', 'Tomato__Tomato_mosaic_virus', 'Tomato_healthy', 'Tomato_healthy', 'Tomato_healthy', 'Tomato_healthy', 'Tomato_healthy', 'Tomato_healthy', 'Tomato_healthy', 'Tomato_healthy', 'Tomato_healthy', 'Tomato_healthy', 'Tomato_healthy', 'Tomato_healthy', 'Tomato_healthy', 'Tomato_healthy', 'Tomato_healthy', 'Tomato_healthy', 'Tomato_healthy', 'Tomato_healthy', 'Tomato_healthy', 'Tomato_healthy', 'Tomato_healthy', 'Tomato_healthy', 'Tomato_healthy', 'Tomato_healthy', 'Tomato_healthy', 'Tomato_healthy', 'Tomato_healthy', 'Tomato_healthy', 'Tomato_healthy', 'Tomato_healthy', 'Tomato_healthy', 'Tomato_healthy', 'Tomato_healthy', 'Tomato_healthy', 'Tomato_healthy', 'Tomato_healthy', 'Tomato_healthy', 'Tomato_healthy', 'Tomato_healthy', 'Tomato_healthy', 'Tomato_healthy', 'Tomato_healthy', 'Tomato_healthy', 'Tomato_healthy', 'Tomato_healthy', 'Tomato_healthy', 'Tomato_healthy', 'Tomato_healthy', 'Tomato_healthy', 'Tomato_healthy', 'Tomato_healthy', 'Tomato_healthy', 'Tomato_healthy', 'Tomato_healthy', 'Tomato_healthy', 'Tomato_healthy', 'Tomato_healthy', 'Tomato_healthy', 'Tomato_healthy', 'Tomato_healthy', 'Tomato_healthy', 'Tomato_healthy', 'Tomato_healthy', 'Tomato_healthy', 'Tomato_healthy', 'Tomato_healthy', 'Tomato_healthy', 'Tomato_healthy', 'Tomato_healthy', 'Tomato_healthy', 'Tomato_healthy', 'Tomato_healthy', 'Tomato_healthy', 'Tomato_healthy', 'Tomato_healthy', 'Tomato_healthy', 'Tomato_healthy', 'Tomato_healthy', 'Tomato_healthy', 'Tomato_healthy', 'Tomato_healthy', 'Tomato_healthy', 'Tomato_healthy', 'Tomato_healthy', 'Tomato_healthy', 'Tomato_healthy', 'Tomato_healthy', 'Tomato_healthy', 'Tomato_healthy', 'Tomato_healthy', 'Tomato_healthy', 'Tomato_healthy', 'Tomato_healthy', 'Tomato_healthy', 'Tomato_healthy', 'Tomato_healthy', 'Tomato_healthy', 'Tomato_healthy', 'Tomato_healthy', 'Tomato_healthy', 'Tomato_healthy', 'Tomato_healthy', 'Tomato_healthy', 'Tomato_healthy', 'Tomato_healthy', 'Tomato_healthy', 'Tomato_healthy', 'Tomato_healthy', 'Tomato_healthy', 'Tomato_healthy', 'Tomato_healthy', 'Tomato_healthy', 'Tomato_healthy', 'Tomato_healthy', 'Tomato_healthy', 'Tomato_healthy', 'Tomato_healthy', 'Tomato_healthy', 'Tomato_healthy', 'Tomato_healthy', 'Tomato_healthy', 'Tomato_healthy', 'Tomato_healthy', 'Tomato_healthy', 'Tomato_healthy', 'Tomato_healthy', 'Tomato_healthy', 'Tomato_healthy', 'Tomato_healthy', 'Tomato_healthy', 'Tomato_healthy', 'Tomato_healthy', 'Tomato_healthy', 'Tomato_healthy', 'Tomato_healthy', 'Tomato_healthy', 'Tomato_healthy', 'Tomato_healthy', 'Tomato_healthy', 'Tomato_healthy', 'Tomato_healthy', 'Tomato_healthy', 'Tomato_healthy', 'Tomato_healthy', 'Tomato_healthy', 'Tomato_healthy', 'Tomato_healthy', 'Tomato_healthy', 'Tomato_healthy', 'Tomato_healthy', 'Tomato_healthy', 'Tomato_healthy', 'Tomato_healthy', 'Tomato_healthy', 'Tomato_healthy', 'Tomato_healthy', 'Tomato_healthy', 'Tomato_healthy', 'Tomato_healthy', 'Tomato_healthy', 'Tomato_healthy', 'Tomato_healthy', 'Tomato_healthy', 'Tomato_healthy', 'Tomato_healthy', 'Tomato_healthy', 'Tomato_healthy', 'Tomato_healthy', 'Tomato_healthy', 'Tomato_healthy', 'Tomato_healthy', 'Tomato_healthy', 'Tomato_healthy', 'Tomato_healthy', 'Tomato_healthy', 'Tomato_healthy', 'Tomato_healthy', 'Tomato_healthy', 'Tomato_healthy', 'Tomato_healthy', 'Tomato_healthy', 'Tomato_healthy', 'Tomato_healthy', 'Tomato_healthy', 'Tomato_healthy', 'Tomato_healthy', 'Tomato_healthy', 'Tomato_healthy', 'Tomato_healthy', 'Tomato_healthy', 'Tomato_healthy', 'Tomato_healthy', 'Tomato_healthy', 'Tomato_healthy', 'Tomato_healthy', 'Tomato_healthy', 'Tomato_healthy', 'Tomato_healthy', 'Tomato_healthy', 'Tomato_healthy']\n"
          ]
        }
      ]
    },
    {
      "metadata": {
        "trusted": true,
        "_uuid": "904ff893fe14f5060dd9e7be2ccf96ec793597e5",
        "id": "WDOmARJQ8rIG"
      },
      "cell_type": "code",
      "source": [
        "label_binarizer = LabelBinarizer()\n",
        "image_labels = label_binarizer.fit_transform(label_list)\n",
        "pickle.dump(label_binarizer,open('label_transform.pkl', 'wb'))\n",
        "n_classes = len(label_binarizer.classes_)"
      ],
      "execution_count": null,
      "outputs": []
    },
    {
      "metadata": {
        "_uuid": "f860c29a1d714f06d25e6a0c5bca94739e5d24cc",
        "id": "QDW4v26Z8rIG"
      },
      "cell_type": "markdown",
      "source": [
        "Print the classes"
      ]
    },
    {
      "metadata": {
        "trusted": true,
        "_uuid": "0f876397c40c3c8aa09772a92fd60481fc9ba268",
        "colab": {
          "base_uri": "https://localhost:8080/"
        },
        "id": "7kN-ZJO38rIG",
        "outputId": "ba62a9c5-a247-420e-b04b-38479c9003f8"
      },
      "cell_type": "code",
      "source": [
        "print(label_binarizer.classes_)"
      ],
      "execution_count": null,
      "outputs": [
        {
          "output_type": "stream",
          "name": "stdout",
          "text": [
            "['Pepper__bell___Bacterial_spot' 'Pepper__bell___healthy'\n",
            " 'Potato___Early_blight' 'Potato___Late_blight' 'Potato___healthy'\n",
            " 'Tomato_Bacterial_spot' 'Tomato_Early_blight' 'Tomato_Late_blight'\n",
            " 'Tomato_Leaf_Mold' 'Tomato_Septoria_leaf_spot'\n",
            " 'Tomato_Spider_mites_Two_spotted_spider_mite' 'Tomato__Target_Spot'\n",
            " 'Tomato__Tomato_YellowLeaf__Curl_Virus' 'Tomato__Tomato_mosaic_virus'\n",
            " 'Tomato_healthy']\n"
          ]
        }
      ]
    },
    {
      "metadata": {
        "trusted": true,
        "_uuid": "6cd9c977b3d164a5570a0c24fdd8624adb9d56b8",
        "id": "jbwpblMI8rIH"
      },
      "cell_type": "code",
      "source": [
        "np_image_list = np.array(image_list, dtype=np.float16) / 225.0"
      ],
      "execution_count": null,
      "outputs": []
    },
    {
      "metadata": {
        "trusted": true,
        "_uuid": "9f4829560fdfa218cee18c1cfb2eb9452ef180e5",
        "colab": {
          "base_uri": "https://localhost:8080/"
        },
        "id": "3DIz9PKP8rIH",
        "outputId": "9eee04a0-f0a8-4bb3-cac2-10aedb335753"
      },
      "cell_type": "code",
      "source": [
        "print(\"[INFO] Spliting data to train, test\")\n",
        "x_train, x_test, y_train, y_test = train_test_split(np_image_list, image_labels, test_size=0.2, random_state = 42) "
      ],
      "execution_count": null,
      "outputs": [
        {
          "output_type": "stream",
          "name": "stdout",
          "text": [
            "[INFO] Spliting data to train, test\n"
          ]
        }
      ]
    },
    {
      "metadata": {
        "trusted": true,
        "_uuid": "eec8afa64e676d52c814fc8e096955a60f13b6c5",
        "id": "IOtvrVck8rIH"
      },
      "cell_type": "code",
      "source": [
        "aug = ImageDataGenerator(\n",
        "    rotation_range=25, width_shift_range=0.1,\n",
        "    height_shift_range=0.1, shear_range=0.2, \n",
        "    zoom_range=0.2,horizontal_flip=True, \n",
        "    fill_mode=\"nearest\")"
      ],
      "execution_count": null,
      "outputs": []
    },
    {
      "metadata": {
        "_cell_guid": "79c7e3d0-c299-4dcb-8224-4455121ee9b0",
        "_uuid": "d629ff2d2480ee46fbb7e2d37f6b5fab8052498a",
        "trusted": true,
        "id": "Vw_p0w3u8rIH"
      },
      "cell_type": "code",
      "source": [
        "model = Sequential()\n",
        "inputShape = (height, width, depth)\n",
        "chanDim = -1\n",
        "if K.image_data_format() == \"channels_first\":\n",
        "    inputShape = (depth, height, width)\n",
        "    chanDim = 1\n",
        "model.add(Conv2D(32, (3, 3), padding=\"same\",input_shape=inputShape))\n",
        "model.add(Activation(\"relu\"))\n",
        "model.add(BatchNormalization(axis=chanDim))\n",
        "model.add(MaxPooling2D(pool_size=(3, 3)))\n",
        "model.add(Dropout(0.25))\n",
        "model.add(Conv2D(64, (3, 3), padding=\"same\"))\n",
        "model.add(Activation(\"relu\"))\n",
        "model.add(BatchNormalization(axis=chanDim))\n",
        "model.add(Conv2D(64, (3, 3), padding=\"same\"))\n",
        "model.add(Activation(\"relu\"))\n",
        "model.add(BatchNormalization(axis=chanDim))\n",
        "model.add(MaxPooling2D(pool_size=(2, 2)))\n",
        "model.add(Dropout(0.25))\n",
        "model.add(Conv2D(128, (3, 3), padding=\"same\"))\n",
        "model.add(Activation(\"relu\"))\n",
        "model.add(BatchNormalization(axis=chanDim))\n",
        "model.add(Conv2D(128, (3, 3), padding=\"same\"))\n",
        "model.add(Activation(\"relu\"))\n",
        "model.add(BatchNormalization(axis=chanDim))\n",
        "model.add(MaxPooling2D(pool_size=(2, 2)))\n",
        "model.add(Dropout(0.25))\n",
        "model.add(Flatten())\n",
        "model.add(Dense(1024))\n",
        "model.add(Activation(\"relu\"))\n",
        "model.add(BatchNormalization())\n",
        "model.add(Dropout(0.5))\n",
        "model.add(Dense(n_classes))\n",
        "model.add(Activation(\"softmax\"))"
      ],
      "execution_count": null,
      "outputs": []
    },
    {
      "metadata": {
        "_uuid": "53b13c03e4cea6dc2453a84e254b806ebeed2d99",
        "id": "9QDcnadi8rII"
      },
      "cell_type": "markdown",
      "source": [
        "Model Summary"
      ]
    },
    {
      "metadata": {
        "trusted": true,
        "_uuid": "1e1523a834fbf872940171fbdefb3dcce2b5f31b",
        "colab": {
          "base_uri": "https://localhost:8080/"
        },
        "id": "B6kJ66z68rII",
        "outputId": "aee4e5ea-50e0-425f-abb4-c2474f52d182"
      },
      "cell_type": "code",
      "source": [
        "model.summary()"
      ],
      "execution_count": null,
      "outputs": [
        {
          "output_type": "stream",
          "name": "stdout",
          "text": [
            "Model: \"sequential\"\n",
            "_________________________________________________________________\n",
            " Layer (type)                Output Shape              Param #   \n",
            "=================================================================\n",
            " conv2d (Conv2D)             (None, 256, 256, 32)      896       \n",
            "                                                                 \n",
            " activation (Activation)     (None, 256, 256, 32)      0         \n",
            "                                                                 \n",
            " batch_normalization (BatchN  (None, 256, 256, 32)     128       \n",
            " ormalization)                                                   \n",
            "                                                                 \n",
            " max_pooling2d (MaxPooling2D  (None, 85, 85, 32)       0         \n",
            " )                                                               \n",
            "                                                                 \n",
            " dropout (Dropout)           (None, 85, 85, 32)        0         \n",
            "                                                                 \n",
            " conv2d_1 (Conv2D)           (None, 85, 85, 64)        18496     \n",
            "                                                                 \n",
            " activation_1 (Activation)   (None, 85, 85, 64)        0         \n",
            "                                                                 \n",
            " batch_normalization_1 (Batc  (None, 85, 85, 64)       256       \n",
            " hNormalization)                                                 \n",
            "                                                                 \n",
            " conv2d_2 (Conv2D)           (None, 85, 85, 64)        36928     \n",
            "                                                                 \n",
            " activation_2 (Activation)   (None, 85, 85, 64)        0         \n",
            "                                                                 \n",
            " batch_normalization_2 (Batc  (None, 85, 85, 64)       256       \n",
            " hNormalization)                                                 \n",
            "                                                                 \n",
            " max_pooling2d_1 (MaxPooling  (None, 42, 42, 64)       0         \n",
            " 2D)                                                             \n",
            "                                                                 \n",
            " dropout_1 (Dropout)         (None, 42, 42, 64)        0         \n",
            "                                                                 \n",
            " conv2d_3 (Conv2D)           (None, 42, 42, 128)       73856     \n",
            "                                                                 \n",
            " activation_3 (Activation)   (None, 42, 42, 128)       0         \n",
            "                                                                 \n",
            " batch_normalization_3 (Batc  (None, 42, 42, 128)      512       \n",
            " hNormalization)                                                 \n",
            "                                                                 \n",
            " conv2d_4 (Conv2D)           (None, 42, 42, 128)       147584    \n",
            "                                                                 \n",
            " activation_4 (Activation)   (None, 42, 42, 128)       0         \n",
            "                                                                 \n",
            " batch_normalization_4 (Batc  (None, 42, 42, 128)      512       \n",
            " hNormalization)                                                 \n",
            "                                                                 \n",
            " max_pooling2d_2 (MaxPooling  (None, 21, 21, 128)      0         \n",
            " 2D)                                                             \n",
            "                                                                 \n",
            " dropout_2 (Dropout)         (None, 21, 21, 128)       0         \n",
            "                                                                 \n",
            " flatten (Flatten)           (None, 56448)             0         \n",
            "                                                                 \n",
            " dense (Dense)               (None, 1024)              57803776  \n",
            "                                                                 \n",
            " activation_5 (Activation)   (None, 1024)              0         \n",
            "                                                                 \n",
            " batch_normalization_5 (Batc  (None, 1024)             4096      \n",
            " hNormalization)                                                 \n",
            "                                                                 \n",
            " dropout_3 (Dropout)         (None, 1024)              0         \n",
            "                                                                 \n",
            " dense_1 (Dense)             (None, 15)                15375     \n",
            "                                                                 \n",
            " activation_6 (Activation)   (None, 15)                0         \n",
            "                                                                 \n",
            "=================================================================\n",
            "Total params: 58,102,671\n",
            "Trainable params: 58,099,791\n",
            "Non-trainable params: 2,880\n",
            "_________________________________________________________________\n"
          ]
        }
      ]
    },
    {
      "metadata": {
        "trusted": true,
        "_uuid": "b21dffee32c325136b4ea23ac511049723f34a24",
        "colab": {
          "base_uri": "https://localhost:8080/"
        },
        "id": "hqUSD66D8rII",
        "outputId": "9dc763cf-408d-47d6-d9c9-16f25b3b3d7a"
      },
      "cell_type": "code",
      "source": [
        "opt = Adam(lr=INIT_LR, decay=INIT_LR / EPOCHS)\n",
        "# distribution\n",
        "model.compile(loss=\"binary_crossentropy\", optimizer=opt,metrics=[\"accuracy\"])\n",
        "# train the network\n",
        "print(\"[INFO] training network...\")"
      ],
      "execution_count": null,
      "outputs": [
        {
          "output_type": "stream",
          "name": "stdout",
          "text": [
            "[INFO] training network...\n"
          ]
        },
        {
          "output_type": "stream",
          "name": "stderr",
          "text": [
            "/usr/local/lib/python3.7/dist-packages/keras/optimizer_v2/adam.py:105: UserWarning: The `lr` argument is deprecated, use `learning_rate` instead.\n",
            "  super(Adam, self).__init__(name, **kwargs)\n"
          ]
        }
      ]
    },
    {
      "metadata": {
        "trusted": true,
        "_uuid": "1a13efc5ded339fc3c0d9e61041e8ca555362db0",
        "colab": {
          "base_uri": "https://localhost:8080/"
        },
        "id": "kCENaZpC8rIJ",
        "outputId": "3cfbf4ff-6606-4c16-e537-dd15d26d0df6"
      },
      "cell_type": "code",
      "source": [
        "history = model.fit_generator(\n",
        "    aug.flow(x_train, y_train, batch_size=BS),\n",
        "    validation_data=(x_test, y_test),\n",
        "    steps_per_epoch=len(x_train) // BS,\n",
        "    epochs=50, verbose=1\n",
        "    )"
      ],
      "execution_count": null,
      "outputs": [
        {
          "output_type": "stream",
          "name": "stderr",
          "text": [
            "/usr/local/lib/python3.7/dist-packages/ipykernel_launcher.py:5: UserWarning: `Model.fit_generator` is deprecated and will be removed in a future version. Please use `Model.fit`, which supports generators.\n",
            "  \"\"\"\n"
          ]
        },
        {
          "output_type": "stream",
          "name": "stdout",
          "text": [
            "Epoch 1/50\n",
            "73/73 [==============================] - 50s 465ms/step - loss: 0.6073 - accuracy: 0.2363 - val_loss: 0.3879 - val_accuracy: 0.0508\n",
            "Epoch 2/50\n",
            "73/73 [==============================] - 31s 417ms/step - loss: 0.1949 - accuracy: 0.4891 - val_loss: 0.5249 - val_accuracy: 0.1100\n",
            "Epoch 3/50\n",
            "73/73 [==============================] - 30s 410ms/step - loss: 0.2270 - accuracy: 0.4410 - val_loss: 1.9262 - val_accuracy: 0.0880\n",
            "Epoch 4/50\n",
            "73/73 [==============================] - 30s 410ms/step - loss: 0.2091 - accuracy: 0.5114 - val_loss: 1.0232 - val_accuracy: 0.1100\n",
            "Epoch 5/50\n",
            "73/73 [==============================] - 30s 409ms/step - loss: 0.1505 - accuracy: 0.6333 - val_loss: 0.6117 - val_accuracy: 0.1320\n",
            "Epoch 6/50\n",
            "73/73 [==============================] - 30s 414ms/step - loss: 0.1498 - accuracy: 0.6325 - val_loss: 0.5217 - val_accuracy: 0.1489\n",
            "Epoch 7/50\n",
            "73/73 [==============================] - 31s 429ms/step - loss: 0.1275 - accuracy: 0.6951 - val_loss: 0.3147 - val_accuracy: 0.2995\n"
          ]
        }
      ]
    },
    {
      "metadata": {
        "_uuid": "1495fea08b37e4d4293f975ba30e6c1fc7a85ed9",
        "id": "CijLWqE88rIJ"
      },
      "cell_type": "markdown",
      "source": [
        "Plot the train and val curve"
      ]
    },
    {
      "cell_type": "code",
      "source": [
        "print(history.history.keys())"
      ],
      "metadata": {
        "id": "Jj1j3AqJG9YP"
      },
      "execution_count": null,
      "outputs": []
    },
    {
      "metadata": {
        "trusted": true,
        "_uuid": "0af5e0f23657a4effc2d21cf8e840e81f42ec8e7",
        "id": "RUC0YoAQ8rIJ"
      },
      "cell_type": "code",
      "source": [
        "acc = history.history['accuracy']\n",
        "val_acc = history.history['val_accuracy']\n",
        "loss = history.history['loss']\n",
        "val_loss = history.history['val_loss']\n",
        "epochs = range(1, len(acc) + 1)\n",
        "#Train and validation accuracy\n",
        "plt.plot(epochs, acc, 'b', label='Training accurarcy')\n",
        "plt.plot(epochs, val_acc, 'r', label='Validation accurarcy')\n",
        "plt.title('Training and Validation accurarcy')\n",
        "plt.legend()\n",
        "\n",
        "plt.figure()\n",
        "#Train and validation loss\n",
        "plt.plot(epochs, loss, 'b', label='Training loss')\n",
        "plt.plot(epochs, val_loss, 'r', label='Validation loss')\n",
        "plt.title('Training and Validation loss')\n",
        "plt.legend()\n",
        "plt.show()"
      ],
      "execution_count": null,
      "outputs": []
    },
    {
      "metadata": {
        "_uuid": "9ca1a4489bd624c69a13cd37c0c2306ac8de55c2",
        "id": "julKuP1r8rIK"
      },
      "cell_type": "markdown",
      "source": [
        "Model Accuracy"
      ]
    },
    {
      "metadata": {
        "trusted": true,
        "_uuid": "bb44f3d0b7e2862bc7d1a032612ebfd48212c1fe",
        "id": "5sN7T6DJ8rIK"
      },
      "cell_type": "code",
      "source": [
        "print(\"[INFO] Calculating model accuracy\")\n",
        "scores = model.evaluate(x_test, y_test)\n",
        "print(f\"Test Accuracy: {scores[1]*100}\")"
      ],
      "execution_count": null,
      "outputs": []
    },
    {
      "metadata": {
        "_uuid": "2a1f759db8afe933e62fe4cf8332cb303bb11be8",
        "id": "7wir-VQ78rIK"
      },
      "cell_type": "markdown",
      "source": [
        "Save model using Pickle"
      ]
    },
    {
      "metadata": {
        "trusted": true,
        "_uuid": "5cdf06adf492d79ed28fbdc36e02ad7489c7b33e",
        "id": "7E-3TX1-8rIK"
      },
      "cell_type": "code",
      "source": [
        "# save the model to disk\n",
        "print(\"[INFO] Saving model...\")\n",
        "pickle.dump(model,open('cnn_model.pkl', 'wb'))"
      ],
      "execution_count": null,
      "outputs": []
    },
    {
      "cell_type": "code",
      "source": [],
      "metadata": {
        "id": "jVw-juSoAnJa"
      },
      "execution_count": null,
      "outputs": []
    }
  ],
  "metadata": {
    "kernelspec": {
      "display_name": "Python 3",
      "language": "python",
      "name": "python3"
    },
    "language_info": {
      "name": "python",
      "version": "3.6.6",
      "mimetype": "text/x-python",
      "codemirror_mode": {
        "name": "ipython",
        "version": 3
      },
      "pygments_lexer": "ipython3",
      "nbconvert_exporter": "python",
      "file_extension": ".py"
    },
    "colab": {
      "provenance": []
    },
    "accelerator": "GPU"
  },
  "nbformat": 4,
  "nbformat_minor": 0
}